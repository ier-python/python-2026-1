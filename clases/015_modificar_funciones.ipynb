{
 "cells": [
  {
   "cell_type": "markdown",
   "id": "7aac5a76-37ff-43d0-bb22-556cbfb02e42",
   "metadata": {},
   "source": [
    "## Uso de magic command para cargar un archico/funcion/paquetito\n",
    "\n",
    "\n",
    "```python \n",
    "%load tools.saludos.py \n",
    "```\n"
   ]
  },
  {
   "cell_type": "code",
   "execution_count": null,
   "id": "1045e556-6399-4ff0-a6a5-13a98b938f7a",
   "metadata": {},
   "outputs": [],
   "source": []
  },
  {
   "cell_type": "code",
   "execution_count": 3,
   "id": "52defafe-14cb-47c9-93b2-de5112174c80",
   "metadata": {},
   "outputs": [],
   "source": [
    "# %load tools/saludos.py\n",
    "def saluda_personas(nombres:list=[\"Fernando\",\"Luisa\",\"Lili\",\"Laura\",\"Mitsue\"],\n",
    "                    saludo:str=\"hola\")-> None:\n",
    "    for nombre in nombres:\n",
    "        print(f\"{saludo} {nombre}\")\n",
    "        \n",
    "def saluda_dos_personas(nombres:list=[\"Fernando\",\"Luisa\",\"Lili\",\"Laura\",\"Mitsue\"],\n",
    "                    saludo:str=\"hola\")-> None:\n",
    "    for nombre in nombres:\n",
    "        print(f\"{saludo} {nombre}\")"
   ]
  }
 ],
 "metadata": {
  "kernelspec": {
   "display_name": "Python 3 (ipykernel)",
   "language": "python",
   "name": "python3"
  },
  "language_info": {
   "codemirror_mode": {
    "name": "ipython",
    "version": 3
   },
   "file_extension": ".py",
   "mimetype": "text/x-python",
   "name": "python",
   "nbconvert_exporter": "python",
   "pygments_lexer": "ipython3",
   "version": "3.12.10"
  }
 },
 "nbformat": 4,
 "nbformat_minor": 5
}
