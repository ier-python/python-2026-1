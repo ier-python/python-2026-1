{
 "cells": [
  {
   "cell_type": "code",
   "execution_count": 1,
   "id": "9b7f38fa-2ca6-4196-8a35-f5399553f631",
   "metadata": {},
   "outputs": [],
   "source": [
    "nombres = [\n",
    " 'Michel',\n",
    " 'Ramon',\n",
    " 'Yadira',\n",
    " 'Fernando',\n",
    " 'Joselin',\n",
    " 'Andrea',\n",
    " 'Rodolfo',\n",
    " 'Nairo',\n",
    " 'Mitsue',\n",
    " 'Laura',\n",
    " 'Luisa',\n",
    " 'Turbo',\n",
    " 'Memo'\n",
    "]"
   ]
  },
  {
   "cell_type": "code",
   "execution_count": 2,
   "id": "33d43c39-2ce3-42b8-961c-e67e51b02298",
   "metadata": {},
   "outputs": [
    {
     "data": {
      "text/plain": [
       "['michel',\n",
       " 'ramon',\n",
       " 'yadira',\n",
       " 'fernando',\n",
       " 'joselin',\n",
       " 'andrea',\n",
       " 'rodolfo',\n",
       " 'nairo',\n",
       " 'mitsue',\n",
       " 'laura',\n",
       " 'luisa',\n",
       " 'turbo',\n",
       " 'memo']"
      ]
     },
     "execution_count": 2,
     "metadata": {},
     "output_type": "execute_result"
    }
   ],
   "source": [
    "nombres_min = []\n",
    "for nombre in nombres:\n",
    "    nombres_min.append(nombre.lower())\n",
    "nombres_min"
   ]
  },
  {
   "cell_type": "code",
   "execution_count": 4,
   "id": "db7408c4-337b-4cd3-8416-b7ff75e451df",
   "metadata": {},
   "outputs": [
    {
     "data": {
      "text/plain": [
       "['michel',\n",
       " 'ramon',\n",
       " 'yadira',\n",
       " 'fernando',\n",
       " 'joselin',\n",
       " 'andrea',\n",
       " 'rodolfo',\n",
       " 'nairo',\n",
       " 'mitsue',\n",
       " 'laura',\n",
       " 'luisa',\n",
       " 'turbo',\n",
       " 'memo']"
      ]
     },
     "execution_count": 4,
     "metadata": {},
     "output_type": "execute_result"
    }
   ],
   "source": [
    "nombres_min = [nombre.lower() for nombre in nombres]\n",
    "nombres_min"
   ]
  },
  {
   "cell_type": "code",
   "execution_count": 18,
   "id": "de1e906e-32be-4c2f-b762-60040587c6eb",
   "metadata": {},
   "outputs": [
    {
     "data": {
      "text/plain": [
       "['Ramon', 'Yadira', 'Fernando', 'Andrea', 'Nairo', 'Laura', 'Luisa']"
      ]
     },
     "execution_count": 18,
     "metadata": {},
     "output_type": "execute_result"
    }
   ],
   "source": [
    "[nombre for nombre in nombres if \"a\" in nombre.lower() ]"
   ]
  },
  {
   "cell_type": "code",
   "execution_count": 19,
   "id": "0b744f31-f9ca-4b4f-a402-d61780d26924",
   "metadata": {},
   "outputs": [],
   "source": [
    "colores = [\"amarillo\", \"rojo\", \"azul\"]"
   ]
  },
  {
   "cell_type": "markdown",
   "id": "bf2ee2e7-45a2-4ef6-9e4d-8f3d81ddc746",
   "metadata": {},
   "source": [
    "## List comprehension que tenga los colores con solo 4 caracteres"
   ]
  },
  {
   "cell_type": "code",
   "execution_count": 22,
   "id": "5e7d772b-b67b-4803-867c-fc4bc87048a0",
   "metadata": {
    "scrolled": true
   },
   "outputs": [],
   "source": [
    "color4 = [color for color in colores if len(color)==4]"
   ]
  },
  {
   "cell_type": "code",
   "execution_count": 21,
   "id": "5b43437c-4693-44c2-930c-27791b84d7dc",
   "metadata": {},
   "outputs": [
    {
     "data": {
      "text/plain": [
       "['rojo', 'azul']"
      ]
     },
     "execution_count": 21,
     "metadata": {},
     "output_type": "execute_result"
    }
   ],
   "source": [
    "color4 = []\n",
    "for color in colores:\n",
    "    if len(color)==4:\n",
    "        color4.append(color)\n",
    "color4"
   ]
  }
 ],
 "metadata": {
  "kernelspec": {
   "display_name": "Python 3 (ipykernel)",
   "language": "python",
   "name": "python3"
  },
  "language_info": {
   "codemirror_mode": {
    "name": "ipython",
    "version": 3
   },
   "file_extension": ".py",
   "mimetype": "text/x-python",
   "name": "python",
   "nbconvert_exporter": "python",
   "pygments_lexer": "ipython3",
   "version": "3.12.10"
  }
 },
 "nbformat": 4,
 "nbformat_minor": 5
}
