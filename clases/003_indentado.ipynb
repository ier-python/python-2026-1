{
 "cells": [
  {
   "cell_type": "code",
   "execution_count": 1,
   "id": "993ae154-73de-47aa-ad9e-d8b52aeea14a",
   "metadata": {},
   "outputs": [],
   "source": [
    "a = 2"
   ]
  },
  {
   "cell_type": "code",
   "execution_count": 2,
   "id": "a270be06-8961-429f-96c4-fee27b8801f2",
   "metadata": {},
   "outputs": [
    {
     "data": {
      "text/plain": [
       "2"
      ]
     },
     "execution_count": 2,
     "metadata": {},
     "output_type": "execute_result"
    }
   ],
   "source": [
    "a"
   ]
  },
  {
   "cell_type": "code",
   "execution_count": 3,
   "id": "faf2bc5b-bebe-4f7e-9e48-547b52069d61",
   "metadata": {},
   "outputs": [],
   "source": [
    "b = 2"
   ]
  },
  {
   "cell_type": "code",
   "execution_count": 4,
   "id": "982502c3-2e37-4b04-87e3-8c3eda19a92d",
   "metadata": {},
   "outputs": [],
   "source": [
    "a  + b\n",
    "c = a + b"
   ]
  },
  {
   "cell_type": "code",
   "execution_count": 5,
   "id": "e79b24c2-1fd1-4b87-982e-28747b713ae1",
   "metadata": {},
   "outputs": [],
   "source": [
    "if c == 3:\n",
    "    print(\"c es igual a 3\")"
   ]
  }
 ],
 "metadata": {
  "kernelspec": {
   "display_name": "Python 3 (ipykernel)",
   "language": "python",
   "name": "python3"
  },
  "language_info": {
   "codemirror_mode": {
    "name": "ipython",
    "version": 3
   },
   "file_extension": ".py",
   "mimetype": "text/x-python",
   "name": "python",
   "nbconvert_exporter": "python",
   "pygments_lexer": "ipython3",
   "version": "3.12.10"
  }
 },
 "nbformat": 4,
 "nbformat_minor": 5
}
