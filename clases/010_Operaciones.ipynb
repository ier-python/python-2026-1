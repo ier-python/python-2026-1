{
 "cells": [
  {
   "cell_type": "code",
   "execution_count": 22,
   "id": "6d74b704-f4b3-4f01-a805-b4cb867b62c4",
   "metadata": {},
   "outputs": [],
   "source": [
    "enteros = 32\n",
    "flotantes = 44.0\n",
    "complejos = 43. + 1j\n",
    "cadena = \"hola mundo\"\n",
    "lista_enteros = [1,2,3,4,5]\n",
    "lista_rara = [1,2,3,4,5,\"seis\"]\n",
    "lista_flotantes = [1.,2.,3.,4.,5.]\n",
    "tupla_enteros = (1,2,3,4,5)"
   ]
  },
  {
   "cell_type": "code",
   "execution_count": 10,
   "id": "09a5296a-26ba-4d1f-a7ea-e73e42affd89",
   "metadata": {},
   "outputs": [
    {
     "data": {
      "text/plain": [
       "int"
      ]
     },
     "execution_count": 10,
     "metadata": {},
     "output_type": "execute_result"
    }
   ],
   "source": [
    "type(enteros + enteros)"
   ]
  },
  {
   "cell_type": "code",
   "execution_count": 11,
   "id": "a8686f38-c755-491f-92b4-0261fec75b37",
   "metadata": {
    "scrolled": true
   },
   "outputs": [
    {
     "data": {
      "text/plain": [
       "float"
      ]
     },
     "execution_count": 11,
     "metadata": {},
     "output_type": "execute_result"
    }
   ],
   "source": [
    "type(enteros + flotantes)"
   ]
  },
  {
   "cell_type": "code",
   "execution_count": 12,
   "id": "b4a94d94-2fd1-4698-844c-7d1277593d83",
   "metadata": {},
   "outputs": [
    {
     "data": {
      "text/plain": [
       "float"
      ]
     },
     "execution_count": 12,
     "metadata": {},
     "output_type": "execute_result"
    }
   ],
   "source": [
    "type(enteros/2)"
   ]
  },
  {
   "cell_type": "code",
   "execution_count": 13,
   "id": "f411687f-2465-4cd0-9cbb-f3a207cb6498",
   "metadata": {},
   "outputs": [
    {
     "data": {
      "text/plain": [
       "(119+1j)"
      ]
     },
     "execution_count": 13,
     "metadata": {},
     "output_type": "execute_result"
    }
   ],
   "source": [
    "complejos + enteros + flotantes"
   ]
  },
  {
   "cell_type": "code",
   "execution_count": 15,
   "id": "b09d8c20-e0a2-4e27-b46e-0b5ed80c5423",
   "metadata": {},
   "outputs": [
    {
     "ename": "TypeError",
     "evalue": "can only concatenate str (not \"int\") to str",
     "output_type": "error",
     "traceback": [
      "\u001b[31m---------------------------------------------------------------------------\u001b[39m",
      "\u001b[31mTypeError\u001b[39m                                 Traceback (most recent call last)",
      "\u001b[36mCell\u001b[39m\u001b[36m \u001b[39m\u001b[32mIn[15]\u001b[39m\u001b[32m, line 1\u001b[39m\n\u001b[32m----> \u001b[39m\u001b[32m1\u001b[39m \u001b[43mcadena\u001b[49m\u001b[43m \u001b[49m\u001b[43m+\u001b[49m\u001b[43m \u001b[49m\u001b[43menteros\u001b[49m \n",
      "\u001b[31mTypeError\u001b[39m: can only concatenate str (not \"int\") to str"
     ]
    }
   ],
   "source": [
    "cadena + enteros "
   ]
  },
  {
   "cell_type": "code",
   "execution_count": 16,
   "id": "16a76cdf-db08-4636-aae9-7ac01e1dc003",
   "metadata": {},
   "outputs": [
    {
     "ename": "TypeError",
     "evalue": "can only concatenate list (not \"int\") to list",
     "output_type": "error",
     "traceback": [
      "\u001b[31m---------------------------------------------------------------------------\u001b[39m",
      "\u001b[31mTypeError\u001b[39m                                 Traceback (most recent call last)",
      "\u001b[36mCell\u001b[39m\u001b[36m \u001b[39m\u001b[32mIn[16]\u001b[39m\u001b[32m, line 1\u001b[39m\n\u001b[32m----> \u001b[39m\u001b[32m1\u001b[39m \u001b[43mlista_enteros\u001b[49m\u001b[43m \u001b[49m\u001b[43m+\u001b[49m\u001b[43m \u001b[49m\u001b[43menteros\u001b[49m\n",
      "\u001b[31mTypeError\u001b[39m: can only concatenate list (not \"int\") to list"
     ]
    }
   ],
   "source": [
    "lista_enteros + enteros"
   ]
  },
  {
   "cell_type": "code",
   "execution_count": 17,
   "id": "3f3c588c-98ab-47a0-84d4-a68e60d2996a",
   "metadata": {},
   "outputs": [
    {
     "data": {
      "text/plain": [
       "'hola mundohola mundohola mundohola mundohola mundohola mundohola mundohola mundohola mundohola mundohola mundohola mundohola mundohola mundohola mundohola mundohola mundohola mundohola mundohola mundohola mundohola mundohola mundohola mundohola mundohola mundohola mundohola mundohola mundohola mundohola mundohola mundo'"
      ]
     },
     "execution_count": 17,
     "metadata": {},
     "output_type": "execute_result"
    }
   ],
   "source": [
    "cadena * enteros"
   ]
  },
  {
   "cell_type": "code",
   "execution_count": 18,
   "id": "f875c14a-38b5-475c-9da8-01b8eaa8519c",
   "metadata": {},
   "outputs": [
    {
     "ename": "TypeError",
     "evalue": "unsupported operand type(s) for /: 'str' and 'int'",
     "output_type": "error",
     "traceback": [
      "\u001b[31m---------------------------------------------------------------------------\u001b[39m",
      "\u001b[31mTypeError\u001b[39m                                 Traceback (most recent call last)",
      "\u001b[36mCell\u001b[39m\u001b[36m \u001b[39m\u001b[32mIn[18]\u001b[39m\u001b[32m, line 1\u001b[39m\n\u001b[32m----> \u001b[39m\u001b[32m1\u001b[39m \u001b[43mcadena\u001b[49m\u001b[43m \u001b[49m\u001b[43m/\u001b[49m\u001b[43m \u001b[49m\u001b[43menteros\u001b[49m\n",
      "\u001b[31mTypeError\u001b[39m: unsupported operand type(s) for /: 'str' and 'int'"
     ]
    }
   ],
   "source": [
    "cadena / enteros"
   ]
  },
  {
   "cell_type": "code",
   "execution_count": 19,
   "id": "3da1e5f8-ecff-45c9-80e3-b33acb8b810a",
   "metadata": {
    "scrolled": true
   },
   "outputs": [
    {
     "ename": "TypeError",
     "evalue": "can only concatenate str (not \"list\") to str",
     "output_type": "error",
     "traceback": [
      "\u001b[31m---------------------------------------------------------------------------\u001b[39m",
      "\u001b[31mTypeError\u001b[39m                                 Traceback (most recent call last)",
      "\u001b[36mCell\u001b[39m\u001b[36m \u001b[39m\u001b[32mIn[19]\u001b[39m\u001b[32m, line 1\u001b[39m\n\u001b[32m----> \u001b[39m\u001b[32m1\u001b[39m \u001b[43mcadena\u001b[49m\u001b[43m \u001b[49m\u001b[43m+\u001b[49m\u001b[43m \u001b[49m\u001b[43mlista_enteros\u001b[49m\n",
      "\u001b[31mTypeError\u001b[39m: can only concatenate str (not \"list\") to str"
     ]
    }
   ],
   "source": [
    "cadena + lista_enteros"
   ]
  },
  {
   "cell_type": "code",
   "execution_count": 20,
   "id": "292f4816-9f4b-48e3-99ee-65edbf6e165a",
   "metadata": {},
   "outputs": [
    {
     "data": {
      "text/plain": [
       "[1, 2, 3, 4, 5, 1, 2, 3, 4, 5]"
      ]
     },
     "execution_count": 20,
     "metadata": {},
     "output_type": "execute_result"
    }
   ],
   "source": [
    "lista_enteros + lista_enteros"
   ]
  },
  {
   "cell_type": "code",
   "execution_count": 21,
   "id": "07f3bbbe-c3b5-484d-9816-306f5fa9089c",
   "metadata": {},
   "outputs": [
    {
     "data": {
      "text/plain": [
       "[1, 2, 3, 4, 5, 1.0, 2.0, 3.0, 4.0, 5.0]"
      ]
     },
     "execution_count": 21,
     "metadata": {},
     "output_type": "execute_result"
    }
   ],
   "source": [
    "lista_enteros + lista_flotantes"
   ]
  },
  {
   "cell_type": "code",
   "execution_count": 23,
   "id": "f3053c68-e762-4737-bcf3-8ea9fbb5d468",
   "metadata": {},
   "outputs": [
    {
     "data": {
      "text/plain": [
       "[1, 2, 3, 4, 5, 1.0, 2.0, 3.0, 4.0, 5.0, 1, 2, 3, 4, 5, 'seis']"
      ]
     },
     "execution_count": 23,
     "metadata": {},
     "output_type": "execute_result"
    }
   ],
   "source": [
    "lista_enteros + lista_flotantes + lista_rara"
   ]
  }
 ],
 "metadata": {
  "kernelspec": {
   "display_name": "Python 3 (ipykernel)",
   "language": "python",
   "name": "python3"
  },
  "language_info": {
   "codemirror_mode": {
    "name": "ipython",
    "version": 3
   },
   "file_extension": ".py",
   "mimetype": "text/x-python",
   "name": "python",
   "nbconvert_exporter": "python",
   "pygments_lexer": "ipython3",
   "version": "3.12.10"
  }
 },
 "nbformat": 4,
 "nbformat_minor": 5
}
