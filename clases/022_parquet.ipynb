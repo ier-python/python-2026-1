{
 "cells": [
  {
   "cell_type": "code",
   "execution_count": 1,
   "id": "7c595467-60a7-40fd-8e65-8a7d5e920e73",
   "metadata": {},
   "outputs": [],
   "source": [
    "import pandas as pd"
   ]
  },
  {
   "cell_type": "code",
   "execution_count": 3,
   "id": "b82a1d76-4821-4bcc-9099-da60afb536ca",
   "metadata": {},
   "outputs": [],
   "source": [
    "f = \"../data/ClimaLab_2023-10-27_2025-04-30.parquet\"\n",
    "esolmet = pd.read_parquet(f)"
   ]
  },
  {
   "cell_type": "code",
   "execution_count": 7,
   "id": "6393366a-0452-4fd3-b944-108f79cf9883",
   "metadata": {},
   "outputs": [
    {
     "data": {
      "text/plain": [
       "date\n",
       "2023-12-31    32.40\n",
       "2024-12-31    39.63\n",
       "2025-12-31    35.78\n",
       "Freq: YE-DEC, Name: tdb, dtype: float64"
      ]
     },
     "execution_count": 7,
     "metadata": {},
     "output_type": "execute_result"
    }
   ],
   "source": [
    "esolmet.tdb.resample(\"YE\").max()"
   ]
  }
 ],
 "metadata": {
  "kernelspec": {
   "display_name": "Python 3 (ipykernel)",
   "language": "python",
   "name": "python3"
  },
  "language_info": {
   "codemirror_mode": {
    "name": "ipython",
    "version": 3
   },
   "file_extension": ".py",
   "mimetype": "text/x-python",
   "name": "python",
   "nbconvert_exporter": "python",
   "pygments_lexer": "ipython3",
   "version": "3.12.10"
  }
 },
 "nbformat": 4,
 "nbformat_minor": 5
}
