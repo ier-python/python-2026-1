{
 "cells": [
  {
   "cell_type": "code",
   "execution_count": 12,
   "id": "54c4f067-758b-44af-a86b-4ffaeaa36d96",
   "metadata": {},
   "outputs": [],
   "source": [
    "seccion = \"exPerimeNtos y datos\""
   ]
  },
  {
   "cell_type": "code",
   "execution_count": null,
   "id": "a396d873-9373-4c62-ac51-1dc394f42e0f",
   "metadata": {},
   "outputs": [],
   "source": []
  },
  {
   "cell_type": "code",
   "execution_count": 13,
   "id": "756c4dd4-238f-4bf5-b970-bb3de5a7a1be",
   "metadata": {},
   "outputs": [
    {
     "data": {
      "text/plain": [
       "'Experimentos y datos'"
      ]
     },
     "execution_count": 13,
     "metadata": {},
     "output_type": "execute_result"
    }
   ],
   "source": [
    "seccion.capitalize()"
   ]
  },
  {
   "cell_type": "code",
   "execution_count": 14,
   "id": "fc0a4ef7-7607-47a7-89e8-1642ac26abc3",
   "metadata": {},
   "outputs": [
    {
     "data": {
      "text/plain": [
       "'experimentos y datos'"
      ]
     },
     "execution_count": 14,
     "metadata": {},
     "output_type": "execute_result"
    }
   ],
   "source": [
    "seccion.lower()"
   ]
  },
  {
   "cell_type": "code",
   "execution_count": 15,
   "id": "6ea81ca1-ab74-430c-a4eb-c9ace2914821",
   "metadata": {},
   "outputs": [
    {
     "data": {
      "text/plain": [
       "'EXPERIMENTOS Y DATOS'"
      ]
     },
     "execution_count": 15,
     "metadata": {},
     "output_type": "execute_result"
    }
   ],
   "source": [
    "seccion.upper()"
   ]
  },
  {
   "cell_type": "code",
   "execution_count": 21,
   "id": "7efb97e5-26db-42a2-92d5-225fa7909e57",
   "metadata": {},
   "outputs": [
    {
     "data": {
      "text/plain": [
       "False"
      ]
     },
     "execution_count": 21,
     "metadata": {},
     "output_type": "execute_result"
    }
   ],
   "source": [
    "\"EXPERIMENTOS Y DATOS\"== seccion"
   ]
  },
  {
   "cell_type": "code",
   "execution_count": 22,
   "id": "daa0a1a6-0245-41ea-95fa-38abd83b19e2",
   "metadata": {},
   "outputs": [
    {
     "data": {
      "text/plain": [
       "True"
      ]
     },
     "execution_count": 22,
     "metadata": {},
     "output_type": "execute_result"
    }
   ],
   "source": [
    "\"EXPERIMENTOS Y DATOS\"== seccion.upper()"
   ]
  },
  {
   "cell_type": "code",
   "execution_count": 23,
   "id": "298ddc3c-f299-4784-a290-0b8bc0353125",
   "metadata": {},
   "outputs": [
    {
     "data": {
      "text/plain": [
       "['__add__',\n",
       " '__class__',\n",
       " '__contains__',\n",
       " '__delattr__',\n",
       " '__dir__',\n",
       " '__doc__',\n",
       " '__eq__',\n",
       " '__format__',\n",
       " '__ge__',\n",
       " '__getattribute__',\n",
       " '__getitem__',\n",
       " '__getnewargs__',\n",
       " '__getstate__',\n",
       " '__gt__',\n",
       " '__hash__',\n",
       " '__init__',\n",
       " '__init_subclass__',\n",
       " '__iter__',\n",
       " '__le__',\n",
       " '__len__',\n",
       " '__lt__',\n",
       " '__mod__',\n",
       " '__mul__',\n",
       " '__ne__',\n",
       " '__new__',\n",
       " '__reduce__',\n",
       " '__reduce_ex__',\n",
       " '__repr__',\n",
       " '__rmod__',\n",
       " '__rmul__',\n",
       " '__setattr__',\n",
       " '__sizeof__',\n",
       " '__str__',\n",
       " '__subclasshook__',\n",
       " 'capitalize',\n",
       " 'casefold',\n",
       " 'center',\n",
       " 'count',\n",
       " 'encode',\n",
       " 'endswith',\n",
       " 'expandtabs',\n",
       " 'find',\n",
       " 'format',\n",
       " 'format_map',\n",
       " 'index',\n",
       " 'isalnum',\n",
       " 'isalpha',\n",
       " 'isascii',\n",
       " 'isdecimal',\n",
       " 'isdigit',\n",
       " 'isidentifier',\n",
       " 'islower',\n",
       " 'isnumeric',\n",
       " 'isprintable',\n",
       " 'isspace',\n",
       " 'istitle',\n",
       " 'isupper',\n",
       " 'join',\n",
       " 'ljust',\n",
       " 'lower',\n",
       " 'lstrip',\n",
       " 'maketrans',\n",
       " 'partition',\n",
       " 'removeprefix',\n",
       " 'removesuffix',\n",
       " 'replace',\n",
       " 'rfind',\n",
       " 'rindex',\n",
       " 'rjust',\n",
       " 'rpartition',\n",
       " 'rsplit',\n",
       " 'rstrip',\n",
       " 'split',\n",
       " 'splitlines',\n",
       " 'startswith',\n",
       " 'strip',\n",
       " 'swapcase',\n",
       " 'title',\n",
       " 'translate',\n",
       " 'upper',\n",
       " 'zfill']"
      ]
     },
     "execution_count": 23,
     "metadata": {},
     "output_type": "execute_result"
    }
   ],
   "source": [
    "dir(seccion)"
   ]
  },
  {
   "cell_type": "code",
   "execution_count": 24,
   "id": "a8982457-6b4c-46bb-929b-4654c9d92065",
   "metadata": {},
   "outputs": [
    {
     "data": {
      "text/plain": [
       "'exPerimeNtos y datos'"
      ]
     },
     "execution_count": 24,
     "metadata": {},
     "output_type": "execute_result"
    }
   ],
   "source": [
    "seccion"
   ]
  },
  {
   "cell_type": "markdown",
   "id": "f4372a79-cb3c-41d2-9828-10630e0e77cd",
   "metadata": {},
   "source": [
    "## Modificar una cadena de lo que sea a mayusculas"
   ]
  },
  {
   "cell_type": "code",
   "execution_count": 35,
   "id": "59502490-2090-4b02-8cc5-7df5059e2061",
   "metadata": {},
   "outputs": [],
   "source": [
    "experimento = \"Rayos X e Inyeccion letal\"\n",
    "experimento = experimento.upper()"
   ]
  },
  {
   "cell_type": "code",
   "execution_count": 36,
   "id": "a4933af1-72c9-4687-8207-6b63face6de3",
   "metadata": {},
   "outputs": [
    {
     "data": {
      "text/plain": [
       "'RAYOS X E INYECCION LETAL'"
      ]
     },
     "execution_count": 36,
     "metadata": {},
     "output_type": "execute_result"
    }
   ],
   "source": [
    "experimento"
   ]
  },
  {
   "cell_type": "code",
   "execution_count": 38,
   "id": "25538714-c33f-4920-a6b2-02238cbc6025",
   "metadata": {},
   "outputs": [
    {
     "data": {
      "text/plain": [
       "True"
      ]
     },
     "execution_count": 38,
     "metadata": {},
     "output_type": "execute_result"
    }
   ],
   "source": [
    "\"3141596\".isnumeric()"
   ]
  },
  {
   "cell_type": "code",
   "execution_count": 39,
   "id": "58e7264f-4765-42fc-bdf9-7b1472cfec64",
   "metadata": {},
   "outputs": [
    {
     "data": {
      "text/plain": [
       "'R'"
      ]
     },
     "execution_count": 39,
     "metadata": {},
     "output_type": "execute_result"
    }
   ],
   "source": [
    "experimento[0]"
   ]
  },
  {
   "cell_type": "code",
   "execution_count": 40,
   "id": "ae13c061-1a19-4782-be6c-03c209d20691",
   "metadata": {},
   "outputs": [
    {
     "data": {
      "text/plain": [
       "25"
      ]
     },
     "execution_count": 40,
     "metadata": {},
     "output_type": "execute_result"
    }
   ],
   "source": [
    "len(experimento)"
   ]
  },
  {
   "cell_type": "code",
   "execution_count": 42,
   "id": "546680ca-a079-41a4-a10c-090371058baa",
   "metadata": {},
   "outputs": [
    {
     "ename": "IndexError",
     "evalue": "string index out of range",
     "output_type": "error",
     "traceback": [
      "\u001b[31m---------------------------------------------------------------------------\u001b[39m",
      "\u001b[31mIndexError\u001b[39m                                Traceback (most recent call last)",
      "\u001b[36mCell\u001b[39m\u001b[36m \u001b[39m\u001b[32mIn[42]\u001b[39m\u001b[32m, line 1\u001b[39m\n\u001b[32m----> \u001b[39m\u001b[32m1\u001b[39m \u001b[43mexperimento\u001b[49m\u001b[43m[\u001b[49m\u001b[32;43m25\u001b[39;49m\u001b[43m]\u001b[49m\n",
      "\u001b[31mIndexError\u001b[39m: string index out of range"
     ]
    }
   ],
   "source": [
    "experimento[25]"
   ]
  },
  {
   "cell_type": "code",
   "execution_count": 48,
   "id": "43b9a508-1157-4064-b659-a6aaf44538e7",
   "metadata": {},
   "outputs": [
    {
     "data": {
      "text/plain": [
       "'L'"
      ]
     },
     "execution_count": 48,
     "metadata": {},
     "output_type": "execute_result"
    }
   ],
   "source": [
    "experimento[-1]"
   ]
  },
  {
   "cell_type": "code",
   "execution_count": 50,
   "id": "bf59f181-691b-4845-83ad-c4d15e615f42",
   "metadata": {},
   "outputs": [
    {
     "data": {
      "text/plain": [
       "'RAYOS X E INYECCION LETA'"
      ]
     },
     "execution_count": 50,
     "metadata": {},
     "output_type": "execute_result"
    }
   ],
   "source": [
    "experimento[0:-1]"
   ]
  },
  {
   "cell_type": "code",
   "execution_count": 51,
   "id": "4ef4e6cc-1bb9-4681-8b9b-45c02e950278",
   "metadata": {},
   "outputs": [
    {
     "data": {
      "text/plain": [
       "'RAYOS X E INYECCION LETA'"
      ]
     },
     "execution_count": 51,
     "metadata": {},
     "output_type": "execute_result"
    }
   ],
   "source": [
    "experimento[:-1]"
   ]
  },
  {
   "cell_type": "code",
   "execution_count": 56,
   "id": "205575d4-79f7-48fc-a020-4d658336d95e",
   "metadata": {},
   "outputs": [
    {
     "data": {
      "text/plain": [
       "'ROX YCNE'"
      ]
     },
     "execution_count": 56,
     "metadata": {},
     "output_type": "execute_result"
    }
   ],
   "source": [
    "experimento[:-1:3]  # [inicio:final:paso] SLICING"
   ]
  },
  {
   "cell_type": "code",
   "execution_count": 57,
   "id": "c230d5c3-2017-4a0d-a9f6-dc4b25db1998",
   "metadata": {},
   "outputs": [],
   "source": [
    "numeros = [1,2,3,4,5,6,7,8,9]"
   ]
  },
  {
   "cell_type": "code",
   "execution_count": 58,
   "id": "25c73333-f470-4a61-9e59-eb072678693a",
   "metadata": {},
   "outputs": [
    {
     "data": {
      "text/plain": [
       "[2, 4, 6, 8]"
      ]
     },
     "execution_count": 58,
     "metadata": {},
     "output_type": "execute_result"
    }
   ],
   "source": [
    "numeros[1::2]"
   ]
  },
  {
   "cell_type": "code",
   "execution_count": 59,
   "id": "8d6a7c80-efa8-4db6-b5b2-686337e2bcf1",
   "metadata": {},
   "outputs": [
    {
     "data": {
      "text/plain": [
       "['__add__',\n",
       " '__class__',\n",
       " '__class_getitem__',\n",
       " '__contains__',\n",
       " '__delattr__',\n",
       " '__delitem__',\n",
       " '__dir__',\n",
       " '__doc__',\n",
       " '__eq__',\n",
       " '__format__',\n",
       " '__ge__',\n",
       " '__getattribute__',\n",
       " '__getitem__',\n",
       " '__getstate__',\n",
       " '__gt__',\n",
       " '__hash__',\n",
       " '__iadd__',\n",
       " '__imul__',\n",
       " '__init__',\n",
       " '__init_subclass__',\n",
       " '__iter__',\n",
       " '__le__',\n",
       " '__len__',\n",
       " '__lt__',\n",
       " '__mul__',\n",
       " '__ne__',\n",
       " '__new__',\n",
       " '__reduce__',\n",
       " '__reduce_ex__',\n",
       " '__repr__',\n",
       " '__reversed__',\n",
       " '__rmul__',\n",
       " '__setattr__',\n",
       " '__setitem__',\n",
       " '__sizeof__',\n",
       " '__str__',\n",
       " '__subclasshook__',\n",
       " 'append',\n",
       " 'clear',\n",
       " 'copy',\n",
       " 'count',\n",
       " 'extend',\n",
       " 'index',\n",
       " 'insert',\n",
       " 'pop',\n",
       " 'remove',\n",
       " 'reverse',\n",
       " 'sort']"
      ]
     },
     "execution_count": 59,
     "metadata": {},
     "output_type": "execute_result"
    }
   ],
   "source": [
    "dir(numeros)"
   ]
  },
  {
   "cell_type": "code",
   "execution_count": 60,
   "id": "d69188dc-bcf8-4384-9bd9-65d054453cdb",
   "metadata": {},
   "outputs": [
    {
     "name": "stdout",
     "output_type": "stream",
     "text": [
      "1\n",
      "2\n",
      "3\n",
      "4\n",
      "5\n",
      "6\n",
      "7\n",
      "8\n",
      "9\n"
     ]
    }
   ],
   "source": [
    "# for (i=0,i<10,++i)\n",
    "#     numeros[i]\n",
    "for numero in numeros:\n",
    "    print(numero)"
   ]
  },
  {
   "cell_type": "code",
   "execution_count": 61,
   "id": "2b382bd8-bb29-43ad-b432-42dc03283b68",
   "metadata": {},
   "outputs": [
    {
     "name": "stdout",
     "output_type": "stream",
     "text": [
      "R\n",
      "A\n",
      "Y\n",
      "O\n",
      "S\n",
      " \n",
      "X\n",
      " \n",
      "E\n",
      " \n",
      "I\n",
      "N\n",
      "Y\n",
      "E\n",
      "C\n",
      "C\n",
      "I\n",
      "O\n",
      "N\n",
      " \n",
      "L\n",
      "E\n",
      "T\n",
      "A\n",
      "L\n"
     ]
    }
   ],
   "source": [
    "for letra in experimento:\n",
    "    print(letra)"
   ]
  },
  {
   "cell_type": "code",
   "execution_count": null,
   "id": "c9af1315-f57d-4ae1-acd8-7b804c43fa5c",
   "metadata": {},
   "outputs": [],
   "source": []
  }
 ],
 "metadata": {
  "kernelspec": {
   "display_name": "Python 3 (ipykernel)",
   "language": "python",
   "name": "python3"
  },
  "language_info": {
   "codemirror_mode": {
    "name": "ipython",
    "version": 3
   },
   "file_extension": ".py",
   "mimetype": "text/x-python",
   "name": "python",
   "nbconvert_exporter": "python",
   "pygments_lexer": "ipython3",
   "version": "3.12.10"
  }
 },
 "nbformat": 4,
 "nbformat_minor": 5
}
