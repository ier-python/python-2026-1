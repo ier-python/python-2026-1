{
 "cells": [
  {
   "cell_type": "code",
   "execution_count": 1,
   "id": "addac34e-f4d3-4c86-9ee5-62187b6de13d",
   "metadata": {},
   "outputs": [],
   "source": [
    "ciudades = [\"cuernavaca\",\"torreon\",\"la Paz\"]\n",
    "lista = [\"cuernavaca\",\"torreon\",\"la Paz\"]\n",
    "long = 1.1\n"
   ]
  },
  {
   "cell_type": "code",
   "execution_count": 3,
   "id": "4bd179f2-2e18-440e-ab67-4a424a856b6a",
   "metadata": {},
   "outputs": [],
   "source": [
    "ciudades_norte = [\"Torreon\",\"Hermosillo\",\"La Paz\"] # snake\n",
    "CiudadesNorte = [\"Torreon\",\"Hermosillo\",\"La Paz\"]  # Camel\n",
    "Ciudades_Norte = [\"Torreon\",\"Hermosillo\",\"La Paz\"] # mala práctica\n",
    "ciuddadesNorte = [\"...\"]\n"
   ]
  },
  {
   "cell_type": "code",
   "execution_count": 4,
   "id": "64066dea-bcf5-4145-90bc-a35da58c9c36",
   "metadata": {},
   "outputs": [],
   "source": [
    "canción = \"Esta es una canción\""
   ]
  },
  {
   "cell_type": "markdown",
   "id": "3762d26d-2fb4-4f31-ba0a-825a3fb88b2a",
   "metadata": {},
   "source": [
    "# PEP 8\n",
    "\n",
    "[Guía de estilo para Python](https://peps.python.org/pep-0008/)"
   ]
  },
  {
   "cell_type": "code",
   "execution_count": null,
   "id": "3aac7566-545a-4f16-8748-1cd4c01b0f57",
   "metadata": {},
   "outputs": [],
   "source": []
  }
 ],
 "metadata": {
  "kernelspec": {
   "display_name": "Python 3 (ipykernel)",
   "language": "python",
   "name": "python3"
  },
  "language_info": {
   "codemirror_mode": {
    "name": "ipython",
    "version": 3
   },
   "file_extension": ".py",
   "mimetype": "text/x-python",
   "name": "python",
   "nbconvert_exporter": "python",
   "pygments_lexer": "ipython3",
   "version": "3.12.10"
  }
 },
 "nbformat": 4,
 "nbformat_minor": 5
}
