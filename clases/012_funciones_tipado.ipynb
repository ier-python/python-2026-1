{
 "cells": [
  {
   "cell_type": "code",
   "execution_count": 14,
   "id": "9bd3d1b2-efb6-46b8-a687-76d43efa562e",
   "metadata": {},
   "outputs": [],
   "source": [
    "def suma(num1:int,num2:int) -> int:\n",
    "    \"\"\"Toma num1 y num2 y regresa la suma\"\"\"\n",
    "    return num1 + num2"
   ]
  },
  {
   "cell_type": "code",
   "execution_count": 3,
   "id": "7da9d475-d40c-4330-9cad-48fcb7fc4ace",
   "metadata": {},
   "outputs": [
    {
     "data": {
      "text/plain": [
       "\u001b[31mSignature:\u001b[39m suma(num1, num2)\n",
       "\u001b[31mDocstring:\u001b[39m Toma num1 y num2 y regresa la suma\n",
       "\u001b[31mFile:\u001b[39m      c:\\users\\gbv\\appdata\\local\\temp\\ipykernel_24564\\3719699347.py\n",
       "\u001b[31mType:\u001b[39m      function"
      ]
     },
     "metadata": {},
     "output_type": "display_data"
    }
   ],
   "source": [
    "suma?"
   ]
  },
  {
   "cell_type": "code",
   "execution_count": 4,
   "id": "7bfb288b-ee9a-44c7-bc54-58ddcf512f11",
   "metadata": {},
   "outputs": [],
   "source": [
    "def suma_no_correcta(num1,num2):\n",
    "    \"\"\"Toma num1 y num2 y regresa la suma\"\"\"\n",
    "    print(num1+num2)\n",
    "    "
   ]
  },
  {
   "cell_type": "code",
   "execution_count": 16,
   "id": "0bf7f0a9-3da4-4c2c-9a62-9b27bdab5342",
   "metadata": {},
   "outputs": [
    {
     "data": {
      "text/plain": [
       "\u001b[31mSignature:\u001b[39m suma(num1: int, num2: int) -> int\n",
       "\u001b[31mDocstring:\u001b[39m Toma num1 y num2 y regresa la suma\n",
       "\u001b[31mFile:\u001b[39m      c:\\users\\gbv\\appdata\\local\\temp\\ipykernel_24564\\1297841391.py\n",
       "\u001b[31mType:\u001b[39m      function"
      ]
     },
     "metadata": {},
     "output_type": "display_data"
    }
   ],
   "source": [
    "suma?"
   ]
  },
  {
   "cell_type": "code",
   "execution_count": 15,
   "id": "c47c1992-eecc-47f3-8ab6-3ec48272cd6a",
   "metadata": {},
   "outputs": [
    {
     "data": {
      "text/plain": [
       "3.1"
      ]
     },
     "execution_count": 15,
     "metadata": {},
     "output_type": "execute_result"
    }
   ],
   "source": [
    "suma(1.1,2)"
   ]
  },
  {
   "cell_type": "code",
   "execution_count": 6,
   "id": "bfb0655c-1f8b-4ca0-bc7d-4f5aa8a3f0d4",
   "metadata": {},
   "outputs": [
    {
     "name": "stdout",
     "output_type": "stream",
     "text": [
      "3\n"
     ]
    }
   ],
   "source": [
    "suma_no_correcta(1,2)"
   ]
  },
  {
   "cell_type": "code",
   "execution_count": 10,
   "id": "244ad7a6-245d-4c7b-848e-f0808e3b5d0e",
   "metadata": {},
   "outputs": [],
   "source": [
    "resultado = suma(1,2)\n",
    "# resultado"
   ]
  },
  {
   "cell_type": "code",
   "execution_count": 9,
   "id": "088e8b68-71f9-4a25-82b2-4d6bdae71386",
   "metadata": {},
   "outputs": [
    {
     "name": "stdout",
     "output_type": "stream",
     "text": [
      "3\n"
     ]
    }
   ],
   "source": [
    "resultado_incorrecto = suma_no_correcta(1,2)\n"
   ]
  },
  {
   "cell_type": "code",
   "execution_count": 11,
   "id": "d01630e2-8e93-4a87-99cb-742a5fe99679",
   "metadata": {},
   "outputs": [],
   "source": [
    "resultado_incorrecto"
   ]
  }
 ],
 "metadata": {
  "kernelspec": {
   "display_name": "Python 3 (ipykernel)",
   "language": "python",
   "name": "python3"
  },
  "language_info": {
   "codemirror_mode": {
    "name": "ipython",
    "version": 3
   },
   "file_extension": ".py",
   "mimetype": "text/x-python",
   "name": "python",
   "nbconvert_exporter": "python",
   "pygments_lexer": "ipython3",
   "version": "3.12.10"
  }
 },
 "nbformat": 4,
 "nbformat_minor": 5
}
