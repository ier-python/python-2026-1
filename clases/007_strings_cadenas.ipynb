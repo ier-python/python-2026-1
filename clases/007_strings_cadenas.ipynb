{
 "cells": [
  {
   "cell_type": "markdown",
   "id": "eb313d99-cadf-45bb-8a0b-efe47acabd1a",
   "metadata": {},
   "source": [
    "## Hacer una lista con nombres propios que inician en mayuscula"
   ]
  },
  {
   "cell_type": "code",
   "execution_count": 1,
   "id": "f18862b3-1a68-4845-98ac-e3638ee24c25",
   "metadata": {},
   "outputs": [
    {
     "data": {
      "text/plain": [
       "['Michel',\n",
       " 'Ramon',\n",
       " 'Yadira',\n",
       " 'Fernando',\n",
       " 'Joselin',\n",
       " 'Andrea',\n",
       " 'Rodolfo',\n",
       " 'Nairo',\n",
       " 'Mitsue',\n",
       " 'Laura',\n",
       " 'Luisa',\n",
       " 'Turbo',\n",
       " 'Memo']"
      ]
     },
     "execution_count": 1,
     "metadata": {},
     "output_type": "execute_result"
    }
   ],
   "source": [
    "nombres = \"michel, ramon, yadira, fernando, joselin, andrea, rodolfo, nairo ,mitsue, laura, luisa, turbo, memo\"\n",
    "nombres1 = nombres.split(sep=\",\") # se vuelve lista\n",
    "# print(nombres1)\n",
    "nombres_limpios = []  # crea una lista vacia\n",
    "for nombre in nombres1: # iterando nombres1 \n",
    "    nombres_limpios.append(nombre.strip().capitalize()) # limpio el espacio vacio y pongo en mayúsculas\n",
    "nombres_limpios # imprimo "
   ]
  },
  {
   "cell_type": "code",
   "execution_count": 9,
   "id": "a2272614-9017-4bfc-bb67-7c36662c9c8d",
   "metadata": {},
   "outputs": [
    {
     "data": {
      "text/plain": [
       "['Michel',\n",
       " 'Ramon',\n",
       " 'Yadira',\n",
       " 'Fernando',\n",
       " 'Joselin',\n",
       " 'Andrea',\n",
       " 'Rodolfo',\n",
       " 'Nairo ',\n",
       " 'Mitsue',\n",
       " 'Laura',\n",
       " 'Luisa',\n",
       " 'Turbo',\n",
       " 'Memo']"
      ]
     },
     "execution_count": 9,
     "metadata": {},
     "output_type": "execute_result"
    }
   ],
   "source": [
    "nombres.replace(\", \",\",\").title().split(sep=\",\")"
   ]
  },
  {
   "cell_type": "code",
   "execution_count": 15,
   "id": "26532fcd-1bf6-44b4-8523-1f265edc577e",
   "metadata": {},
   "outputs": [
    {
     "data": {
      "text/plain": [
       "['Michel',\n",
       " 'Ramon',\n",
       " 'Yadira',\n",
       " 'Fernando',\n",
       " 'Joselin',\n",
       " 'Andrea',\n",
       " 'Rodolfo',\n",
       " 'Nairo',\n",
       " 'Mitsue',\n",
       " 'Laura',\n",
       " 'Luisa',\n",
       " 'Turbo',\n",
       " 'Memo']"
      ]
     },
     "execution_count": 15,
     "metadata": {},
     "output_type": "execute_result"
    }
   ],
   "source": [
    "[nombre.strip().capitalize() for nombre in nombres.split(sep=\",\")]"
   ]
  },
  {
   "cell_type": "code",
   "execution_count": 20,
   "id": "3c93acbb-cb3b-4981-abf8-c55694c7114d",
   "metadata": {},
   "outputs": [
    {
     "data": {
      "text/plain": [
       "10"
      ]
     },
     "execution_count": 20,
     "metadata": {},
     "output_type": "execute_result"
    }
   ],
   "source": [
    "nombres.lower().count(\"a\") # ccuenta todas las a sin importar si son mayuscula o minuscular"
   ]
  },
  {
   "cell_type": "code",
   "execution_count": 23,
   "id": "831e6a1f-0cd4-46d6-baa2-2e55e7229d5f",
   "metadata": {},
   "outputs": [
    {
     "data": {
      "text/plain": [
       "True"
      ]
     },
     "execution_count": 23,
     "metadata": {},
     "output_type": "execute_result"
    }
   ],
   "source": [
    "nombres.endswith(\"xls\")"
   ]
  },
  {
   "cell_type": "code",
   "execution_count": 25,
   "id": "3d76ecab-813e-41f7-a6ef-9625b12ce26b",
   "metadata": {},
   "outputs": [
    {
     "data": {
      "text/plain": [
       "'michel, ramon, yadira, fernando, joselin, andrea, rodolfo, nairo ,mitsue, laura, luisa, turbo, memo'"
      ]
     },
     "execution_count": 25,
     "metadata": {},
     "output_type": "execute_result"
    }
   ],
   "source": [
    "nombres"
   ]
  },
  {
   "cell_type": "code",
   "execution_count": 29,
   "id": "5d4c6cf1-39ce-4db1-9838-19d5a418196f",
   "metadata": {},
   "outputs": [
    {
     "data": {
      "text/plain": [
       "'imichel, ramon, yadira, fernando, joselin, andrea, rodolfo, nairo ,mitsue, laura, luisa, turbo, memonmichel, ramon, yadira, fernando, joselin, andrea, rodolfo, nairo ,mitsue, laura, luisa, turbo, memotmichel, ramon, yadira, fernando, joselin, andrea, rodolfo, nairo ,mitsue, laura, luisa, turbo, memoemichel, ramon, yadira, fernando, joselin, andrea, rodolfo, nairo ,mitsue, laura, luisa, turbo, memormichel, ramon, yadira, fernando, joselin, andrea, rodolfo, nairo ,mitsue, laura, luisa, turbo, memoemichel, ramon, yadira, fernando, joselin, andrea, rodolfo, nairo ,mitsue, laura, luisa, turbo, memosmichel, ramon, yadira, fernando, joselin, andrea, rodolfo, nairo ,mitsue, laura, luisa, turbo, memoamichel, ramon, yadira, fernando, joselin, andrea, rodolfo, nairo ,mitsue, laura, luisa, turbo, memonmichel, ramon, yadira, fernando, joselin, andrea, rodolfo, nairo ,mitsue, laura, luisa, turbo, memotmichel, ramon, yadira, fernando, joselin, andrea, rodolfo, nairo ,mitsue, laura, luisa, turbo, memoe'"
      ]
     },
     "execution_count": 29,
     "metadata": {},
     "output_type": "execute_result"
    }
   ],
   "source": [
    "nombres.join(\"interesante\")"
   ]
  },
  {
   "cell_type": "code",
   "execution_count": 27,
   "id": "f73c376c-2723-4103-bea7-ed1af5b407d1",
   "metadata": {
    "scrolled": true
   },
   "outputs": [
    {
     "data": {
      "text/plain": [
       "'interesantemichel, ramon, yadira, fernando, joselin, andrea, rodolfo, nairo ,mitsue, laura, luisa, turbo, memoalgo'"
      ]
     },
     "execution_count": 27,
     "metadata": {},
     "output_type": "execute_result"
    }
   ],
   "source": [
    "nombres.join([\"interesante\",\"algo\"])"
   ]
  },
  {
   "cell_type": "code",
   "execution_count": 32,
   "id": "e11dd88e-0c5e-43ed-b0bb-67cbab6ccc5c",
   "metadata": {},
   "outputs": [
    {
     "data": {
      "text/plain": [
       "'a, b, c'"
      ]
     },
     "execution_count": 32,
     "metadata": {},
     "output_type": "execute_result"
    }
   ],
   "source": [
    "\", \".join([\"a\",\"b\",\"c\"])"
   ]
  },
  {
   "cell_type": "code",
   "execution_count": 33,
   "id": "0c923127-44b6-49ee-96b2-1853ff0a911e",
   "metadata": {},
   "outputs": [
    {
     "data": {
      "text/plain": [
       "'michel, ramon, yadira, fernando, joselin, andrea, rodolfo, nairo ,mitsue, laura, luisa, turbo, MeMo'"
      ]
     },
     "execution_count": 33,
     "metadata": {},
     "output_type": "execute_result"
    }
   ],
   "source": [
    "nombres.replace(\"memo\",\"MeMo\")"
   ]
  },
  {
   "cell_type": "code",
   "execution_count": 39,
   "id": "f5e686f6-c625-4671-a311-1e0a87a0286b",
   "metadata": {
    "scrolled": true
   },
   "outputs": [
    {
     "name": "stdout",
     "output_type": "stream",
     "text": [
      "0000Michel\n",
      "00000Ramon\n",
      "0000Yadira\n",
      "00Fernando\n",
      "000Joselin\n",
      "0000Andrea\n",
      "000Rodolfo\n",
      "00000Nairo\n",
      "0000Mitsue\n",
      "00000Laura\n",
      "00000Luisa\n",
      "00000Turbo\n",
      "000000Memo\n"
     ]
    }
   ],
   "source": [
    "for nombre in nombres_limpios:\n",
    "    print(nombre.zfill(10))"
   ]
  },
  {
   "cell_type": "code",
   "execution_count": 41,
   "id": "7bda6d63-b5b7-4095-9ea8-7f43f66752b0",
   "metadata": {},
   "outputs": [
    {
     "name": "stdout",
     "output_type": "stream",
     "text": [
      "    Michel\n",
      "     Ramon\n",
      "    Yadira\n",
      "  Fernando\n",
      "   Joselin\n",
      "    Andrea\n",
      "   Rodolfo\n",
      "     Nairo\n",
      "    Mitsue\n",
      "     Laura\n",
      "     Luisa\n",
      "     Turbo\n",
      "      Memo\n"
     ]
    }
   ],
   "source": [
    "for nombre in nombres_limpios:\n",
    "    print(nombre.rjust(10))"
   ]
  },
  {
   "cell_type": "code",
   "execution_count": 43,
   "id": "2fa0abb4-7938-4a56-8aad-2bf4ac48e159",
   "metadata": {},
   "outputs": [
    {
     "name": "stdout",
     "output_type": "stream",
     "text": [
      "nombre\t nombres\t nombres1\t nombres_limpios\t \n"
     ]
    }
   ],
   "source": [
    "%who"
   ]
  },
  {
   "cell_type": "code",
   "execution_count": 46,
   "id": "700aca65-fce1-4c5e-b10f-00420732db86",
   "metadata": {},
   "outputs": [
    {
     "data": {
      "text/plain": [
       "['michel',\n",
       " ' ramon',\n",
       " ' yadira',\n",
       " ' fernando',\n",
       " ' joselin',\n",
       " ' andrea',\n",
       " ' rodolfo',\n",
       " ' nairo ',\n",
       " 'mitsue',\n",
       " ' laura',\n",
       " ' luisa',\n",
       " ' turbo',\n",
       " ' memo']"
      ]
     },
     "execution_count": 46,
     "metadata": {},
     "output_type": "execute_result"
    }
   ],
   "source": [
    "nombre\n",
    "nombres\n",
    "nombres1"
   ]
  },
  {
   "cell_type": "code",
   "execution_count": 47,
   "id": "ff4639c7-78e3-4c9c-8b0d-9c854f2ec18e",
   "metadata": {
    "scrolled": true
   },
   "outputs": [
    {
     "name": "stdout",
     "output_type": "stream",
     "text": [
      "Memo\n",
      "michel, ramon, yadira, fernando, joselin, andrea, rodolfo, nairo ,mitsue, laura, luisa, turbo, memo\n",
      "['michel', ' ramon', ' yadira', ' fernando', ' joselin', ' andrea', ' rodolfo', ' nairo ', 'mitsue', ' laura', ' luisa', ' turbo', ' memo']\n"
     ]
    }
   ],
   "source": [
    "print(nombre)\n",
    "print(nombres)\n",
    "print(nombres1)"
   ]
  },
  {
   "cell_type": "code",
   "execution_count": 48,
   "id": "ad21415c-5356-4547-831f-d8a620f6b311",
   "metadata": {},
   "outputs": [
    {
     "data": {
      "text/plain": [
       "('Memo',\n",
       " 'michel, ramon, yadira, fernando, joselin, andrea, rodolfo, nairo ,mitsue, laura, luisa, turbo, memo',\n",
       " ['michel',\n",
       "  ' ramon',\n",
       "  ' yadira',\n",
       "  ' fernando',\n",
       "  ' joselin',\n",
       "  ' andrea',\n",
       "  ' rodolfo',\n",
       "  ' nairo ',\n",
       "  'mitsue',\n",
       "  ' laura',\n",
       "  ' luisa',\n",
       "  ' turbo',\n",
       "  ' memo'])"
      ]
     },
     "execution_count": 48,
     "metadata": {},
     "output_type": "execute_result"
    }
   ],
   "source": [
    "nombre,nombres,nombres1"
   ]
  },
  {
   "cell_type": "markdown",
   "id": "9c94374a-7436-4d6b-855f-58948a775b78",
   "metadata": {},
   "source": [
    "# f-strings"
   ]
  },
  {
   "cell_type": "code",
   "execution_count": null,
   "id": "394743e9-392c-4239-a348-65c8439dbd37",
   "metadata": {},
   "outputs": [],
   "source": []
  },
  {
   "cell_type": "code",
   "execution_count": 54,
   "id": "bfb91d3a-415e-4547-9478-93456fd533f9",
   "metadata": {},
   "outputs": [
    {
     "name": "stdout",
     "output_type": "stream",
     "text": [
      "El   Fernando  y los nombres  Fer y Nando y los limpios son: ['Fer', 'Nando']\n"
     ]
    }
   ],
   "source": [
    "nombre_sucio = \" Fernando\"\n",
    "nombres_juntos = \"Fer y Nando\"\n",
    "nombres_finales = [\"Fer\",\"Nando\"]\n",
    "print(\"El \",nombre_sucio,\" y los nombres \", nombres_juntos, \"y los limpios son:\",nombres_finales)"
   ]
  },
  {
   "cell_type": "code",
   "execution_count": 55,
   "id": "d15eb100-b705-4d89-ae61-f0f13b01d20e",
   "metadata": {},
   "outputs": [
    {
     "name": "stdout",
     "output_type": "stream",
     "text": [
      "El  Fernando y los nombres Fer y Nando y los limpios son: ['Fer', 'Nando']\n"
     ]
    }
   ],
   "source": [
    "nombre_sucio = \" Fernando\"\n",
    "nombres_juntos = \"Fer y Nando\"\n",
    "nombres_finales = [\"Fer\",\"Nando\"]\n",
    "print(f\"El {nombre_sucio} y los nombres {nombres_juntos} y los limpios son: {nombres_finales}\")"
   ]
  },
  {
   "cell_type": "code",
   "execution_count": 57,
   "id": "21c772d2-564f-48e4-b379-f36d8ad1a850",
   "metadata": {},
   "outputs": [
    {
     "data": {
      "text/plain": [
       "'El {nombre_sucio} y los nombres {nombres_juntos} y los limpios son: {nombres_finales}'"
      ]
     },
     "execution_count": 57,
     "metadata": {},
     "output_type": "execute_result"
    }
   ],
   "source": [
    "nombre_archivo = r\"El {nombre_sucio} y los nombres {nombres_juntos} y los limpios son: {nombres_finales}\"\n",
    "nombre_archivo"
   ]
  },
  {
   "cell_type": "code",
   "execution_count": 58,
   "id": "44c126f0-10d5-44c6-9418-d35a01a4705e",
   "metadata": {},
   "outputs": [],
   "source": [
    "separadores = \", \\t \\n\""
   ]
  },
  {
   "cell_type": "code",
   "execution_count": 63,
   "id": "2c0dc74c-7540-4485-96a8-6354f7caa77d",
   "metadata": {},
   "outputs": [],
   "source": [
    "texto = \"\"\"\n",
    "este es un ejemplo de un texto largo\n",
    "\n",
    "a\n",
    "\"\"\""
   ]
  },
  {
   "cell_type": "code",
   "execution_count": 64,
   "id": "d222593d-34a8-4677-b609-cb0df5b8b855",
   "metadata": {},
   "outputs": [
    {
     "data": {
      "text/plain": [
       "'\\neste es un ejemplo de un texto largo\\n\\na\\n'"
      ]
     },
     "execution_count": 64,
     "metadata": {},
     "output_type": "execute_result"
    }
   ],
   "source": [
    "texto"
   ]
  },
  {
   "cell_type": "code",
   "execution_count": 66,
   "id": "c5455005-b322-4eb9-9dee-84e9533d808d",
   "metadata": {},
   "outputs": [
    {
     "name": "stdout",
     "output_type": "stream",
     "text": [
      "\n",
      "este es un ejemplo de un texto largo\n",
      "\n",
      "a\n",
      "\n"
     ]
    }
   ],
   "source": [
    "print(texto)"
   ]
  },
  {
   "cell_type": "code",
   "execution_count": 91,
   "id": "75b26859-40eb-4f8a-ae5c-cf2b15284e6e",
   "metadata": {},
   "outputs": [],
   "source": [
    "texto_muy_largo = \"\"\"\n",
    "1,2,3,4,5,6,7,8,8\n",
    "uno,dos,tres,cuatro,cinco,seis,siete,ocho,ocho\n",
    "1.0,2.0,3.0,4.0,5.0\n",
    "\"\"\""
   ]
  },
  {
   "cell_type": "markdown",
   "id": "f89b97fb-029b-4818-b9c2-7b6d84070690",
   "metadata": {},
   "source": [
    "[\n",
    "    [1,2,3,4,5,6,7,8,8],\n",
    "    [uno,dos,tres,cuatro,cinco,seis,siete,ocho,ocho]\n",
    "    [1.0,2.0,3.0,4.0,5.0]\n",
    "]\n"
   ]
  },
  {
   "cell_type": "code",
   "execution_count": 82,
   "id": "0ab2c11b-21b0-4da2-9047-8dc0ce55003d",
   "metadata": {},
   "outputs": [
    {
     "data": {
      "text/plain": [
       "['1.0', '2.0', '3.0', '4.0', '5.0']"
      ]
     },
     "execution_count": 82,
     "metadata": {},
     "output_type": "execute_result"
    }
   ],
   "source": [
    "texto_muy_largo.split(sep=\"\\n\")[3].split(sep=\",\")"
   ]
  },
  {
   "cell_type": "code",
   "execution_count": 87,
   "id": "3d2acf72-cd01-468f-a893-ecbf4b8dc113",
   "metadata": {},
   "outputs": [
    {
     "data": {
      "text/plain": [
       "['',\n",
       " '1,2,3,4,5,6,7,8,8',\n",
       " 'uno,dos,tres,cuatro,cinco,seis,siete,ocho,ocho,',\n",
       " '1.0,2.0,3.0,4.0,5.0',\n",
       " '']"
      ]
     },
     "execution_count": 87,
     "metadata": {},
     "output_type": "execute_result"
    }
   ],
   "source": [
    " texto_muy_largo.split(sep=\"\\n\")"
   ]
  },
  {
   "cell_type": "code",
   "execution_count": 88,
   "id": "b625db24-0394-4284-8bef-ef539e33faba",
   "metadata": {},
   "outputs": [
    {
     "name": "stdout",
     "output_type": "stream",
     "text": [
      "['1', '2', '3', '4', '5', '6', '7', '8', '8']\n",
      "['uno', 'dos', 'tres', 'cuatro', 'cinco', 'seis', 'siete', 'ocho', 'ocho', '']\n",
      "['1.0', '2.0', '3.0', '4.0', '5.0']\n"
     ]
    }
   ],
   "source": [
    "for renglon in texto_muy_largo.split(sep=\"\\n\")[1:4]:\n",
    "    print(renglon.split(sep=\",\"))"
   ]
  },
  {
   "cell_type": "code",
   "execution_count": 89,
   "id": "4d0046b1-2759-4f48-a905-decb0c21861d",
   "metadata": {},
   "outputs": [],
   "source": [
    "listota = []\n",
    "for renglon in texto_muy_largo.split(sep=\"\\n\")[1:4]:\n",
    "    listota.append(renglon.split(sep=\",\"))"
   ]
  },
  {
   "cell_type": "code",
   "execution_count": 90,
   "id": "7c4c0ebf-4503-410b-82d6-7c8bed7678a3",
   "metadata": {},
   "outputs": [
    {
     "data": {
      "text/plain": [
       "[['1', '2', '3', '4', '5', '6', '7', '8', '8'],\n",
       " ['uno',\n",
       "  'dos',\n",
       "  'tres',\n",
       "  'cuatro',\n",
       "  'cinco',\n",
       "  'seis',\n",
       "  'siete',\n",
       "  'ocho',\n",
       "  'ocho',\n",
       "  ''],\n",
       " ['1.0', '2.0', '3.0', '4.0', '5.0']]"
      ]
     },
     "execution_count": 90,
     "metadata": {},
     "output_type": "execute_result"
    }
   ],
   "source": [
    "listota"
   ]
  },
  {
   "cell_type": "markdown",
   "id": "bf70a053-10dd-4a73-90f9-9a295168ad52",
   "metadata": {},
   "source": [
    "### Version final del manipulado"
   ]
  },
  {
   "cell_type": "code",
   "execution_count": 96,
   "id": "cc97df89-2ca7-4381-a03d-f6fc07572336",
   "metadata": {},
   "outputs": [
    {
     "data": {
      "text/plain": [
       "[['1', '2', '3', '4', '5', '6', '7', '8', '8'],\n",
       " ['uno', 'dos', 'tres', 'cuatro', 'cinco', 'seis', 'siete', 'ocho', 'ocho'],\n",
       " ['1.0', '2.0', '3.0', '4.0', '5.0']]"
      ]
     },
     "execution_count": 96,
     "metadata": {},
     "output_type": "execute_result"
    }
   ],
   "source": [
    "texto_muy_largo = \"\"\"\n",
    "1,2,3,4,5,6,7,8,8\n",
    "uno,dos,tres,cuatro,cinco,seis,siete,ocho,ocho\n",
    "1.0,2.0,3.0,4.0,5.0\n",
    "\"\"\"\n",
    "listota = []\n",
    "for renglon in texto_muy_largo.split(sep=\"\\n\")[1:4]:\n",
    "    listota.append(renglon.split(sep=\",\"))\n",
    "\n",
    "listota"
   ]
  },
  {
   "cell_type": "code",
   "execution_count": null,
   "id": "195bc34d-b41b-4d5f-9d06-b764cc849f1c",
   "metadata": {},
   "outputs": [],
   "source": []
  }
 ],
 "metadata": {
  "kernelspec": {
   "display_name": "Python 3 (ipykernel)",
   "language": "python",
   "name": "python3"
  },
  "language_info": {
   "codemirror_mode": {
    "name": "ipython",
    "version": 3
   },
   "file_extension": ".py",
   "mimetype": "text/x-python",
   "name": "python",
   "nbconvert_exporter": "python",
   "pygments_lexer": "ipython3",
   "version": "3.12.10"
  }
 },
 "nbformat": 4,
 "nbformat_minor": 5
}
