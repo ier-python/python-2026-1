{
 "cells": [
  {
   "cell_type": "code",
   "execution_count": 7,
   "id": "da585934-b6ba-4adc-bdae-7f5a71362776",
   "metadata": {},
   "outputs": [],
   "source": [
    "def suma_dos_numeros(a: int, b:int) -> int:\n",
    "    \"\"\"\n",
    "    Recibe dos números enteros y regresa un entero\n",
    "    \"\"\"\n",
    "\n",
    "    # print(a+b)\n",
    "    # c = a + b\n",
    "    return a + b"
   ]
  },
  {
   "cell_type": "code",
   "execution_count": 9,
   "id": "9ffcf95b-498a-41f0-8e96-97762f5bcade",
   "metadata": {},
   "outputs": [
    {
     "data": {
      "text/plain": [
       "3"
      ]
     },
     "execution_count": 9,
     "metadata": {},
     "output_type": "execute_result"
    }
   ],
   "source": [
    "suma = suma_dos_numeros(1,2)\n",
    "suma"
   ]
  },
  {
   "cell_type": "markdown",
   "id": "a0f5c004-3c6b-48b9-bdc4-3115a8bd78e8",
   "metadata": {},
   "source": [
    "### Jerarquia de variables"
   ]
  },
  {
   "cell_type": "code",
   "execution_count": 25,
   "id": "4c254540-add8-49ee-823f-962bfb7d32ba",
   "metadata": {},
   "outputs": [],
   "source": [
    "def suma_un_numero(a:int): # Mala practica tomar variables del contexto\n",
    "    \"\"\"Documento la funcion \"\"\"\n",
    "    # d = 1\n",
    "    return a + d"
   ]
  },
  {
   "cell_type": "code",
   "execution_count": 26,
   "id": "f1409ca4-9b2f-4513-83af-aa2ab86c9808",
   "metadata": {},
   "outputs": [
    {
     "ename": "NameError",
     "evalue": "name 'd' is not defined",
     "output_type": "error",
     "traceback": [
      "\u001b[31m---------------------------------------------------------------------------\u001b[39m",
      "\u001b[31mNameError\u001b[39m                                 Traceback (most recent call last)",
      "\u001b[36mCell\u001b[39m\u001b[36m \u001b[39m\u001b[32mIn[26]\u001b[39m\u001b[32m, line 2\u001b[39m\n\u001b[32m      1\u001b[39m c = -\u001b[32m1\u001b[39m\n\u001b[32m----> \u001b[39m\u001b[32m2\u001b[39m \u001b[43msuma_un_numero\u001b[49m\u001b[43m(\u001b[49m\u001b[32;43m1\u001b[39;49m\u001b[43m)\u001b[49m\n",
      "\u001b[36mCell\u001b[39m\u001b[36m \u001b[39m\u001b[32mIn[25]\u001b[39m\u001b[32m, line 4\u001b[39m, in \u001b[36msuma_un_numero\u001b[39m\u001b[34m(a)\u001b[39m\n\u001b[32m      2\u001b[39m \u001b[38;5;250m\u001b[39m\u001b[33;03m\"\"\"Documento la funcion \"\"\"\u001b[39;00m\n\u001b[32m      3\u001b[39m \u001b[38;5;66;03m# d = 1\u001b[39;00m\n\u001b[32m----> \u001b[39m\u001b[32m4\u001b[39m \u001b[38;5;28;01mreturn\u001b[39;00m a + \u001b[43md\u001b[49m\n",
      "\u001b[31mNameError\u001b[39m: name 'd' is not defined"
     ]
    }
   ],
   "source": [
    "c = -1\n",
    "suma_un_numero(1)"
   ]
  },
  {
   "cell_type": "markdown",
   "id": "839514c8-e34b-43b3-8f53-9738aefc745e",
   "metadata": {},
   "source": [
    " #### Tomar una lista de nombres y poner hola a cada persona"
   ]
  },
  {
   "cell_type": "code",
   "execution_count": 27,
   "id": "a7f77479-ad40-4cb4-89c5-dcf438c24e78",
   "metadata": {},
   "outputs": [],
   "source": [
    "nombres = [\"Fernando\",\"Luisa\",\"Lili\",\"Laura\",\"Mitsue\"]"
   ]
  },
  {
   "cell_type": "code",
   "execution_count": 42,
   "id": "c3a46429-a26a-440c-86ed-301f36562071",
   "metadata": {},
   "outputs": [],
   "source": [
    "def saluda_personas(nombres:list=[\"Fernando\",\"Luisa\",\"Lili\",\"Laura\",\"Mitsue\"],\n",
    "                    saludo:str=\"hola\")-> None:\n",
    "    for nombre in nombres:\n",
    "        print(f\"{saludo} {nombre}\")"
   ]
  },
  {
   "cell_type": "code",
   "execution_count": 44,
   "id": "fbaf31b9-e28b-48b5-a493-ca11b575e38c",
   "metadata": {},
   "outputs": [
    {
     "name": "stdout",
     "output_type": "stream",
     "text": [
      "adios Michele\n",
      "adios Sebastian\n"
     ]
    }
   ],
   "source": [
    "saluda_personas(saludo=\"adios\",nombres=[\"Michele\",\"Sebastian\"])"
   ]
  },
  {
   "cell_type": "code",
   "execution_count": 45,
   "id": "36fd4f6b-defe-4ed1-8b7d-a9f0d63c8b71",
   "metadata": {},
   "outputs": [
    {
     "name": "stdout",
     "output_type": "stream",
     "text": [
      "hola Michele\n",
      "hola Sebastian\n"
     ]
    }
   ],
   "source": [
    "saluda_personas(nombres=[\"Michele\",\"Sebastian\"])"
   ]
  },
  {
   "cell_type": "code",
   "execution_count": 46,
   "id": "c5b3ae76-fd8f-47d6-b9ac-1343c462d530",
   "metadata": {},
   "outputs": [
    {
     "name": "stdout",
     "output_type": "stream",
     "text": [
      "siempre no Fernando\n",
      "siempre no Luisa\n",
      "siempre no Lili\n",
      "siempre no Laura\n",
      "siempre no Mitsue\n"
     ]
    }
   ],
   "source": [
    "saluda_personas(saludo=\"siempre no\")"
   ]
  },
  {
   "cell_type": "markdown",
   "id": "1aca14a4-5dc4-4bfc-ba51-65d14d9b6664",
   "metadata": {},
   "source": [
    "## Funciones\n",
    "\n",
    "1. Pueden aceptar argumentos sin definir\n",
    "2. Pueden aceptar variables con un valor predeterminado\n",
    "3. Con valores predeterminados, ya no importa el orden\n",
    "4. "
   ]
  },
  {
   "cell_type": "code",
   "execution_count": 51,
   "id": "40e4c95d-5925-48fd-a028-e50d7b34d644",
   "metadata": {},
   "outputs": [],
   "source": [
    "def suma_tres_cadenas(cad1:str,cad2:str,cad3:str) -> str:\n",
    "    \"\"\"cad1 es el primer elemento, ....\"\"\"\n",
    "    return cad1 + cad2 + cad3"
   ]
  },
  {
   "cell_type": "code",
   "execution_count": 52,
   "id": "b014dc4e-ea94-4d9b-8e07-333c4c745428",
   "metadata": {},
   "outputs": [
    {
     "data": {
      "text/plain": [
       "'unodostres'"
      ]
     },
     "execution_count": 52,
     "metadata": {},
     "output_type": "execute_result"
    }
   ],
   "source": [
    "suma_tres_cadenas(\"uno\",\"dos\",\"tres\")"
   ]
  },
  {
   "cell_type": "code",
   "execution_count": 53,
   "id": "dca3a65d-4bf6-4a26-83b5-9e5161eaa265",
   "metadata": {},
   "outputs": [
    {
     "data": {
      "text/plain": [
       "'dosunotres'"
      ]
     },
     "execution_count": 53,
     "metadata": {},
     "output_type": "execute_result"
    }
   ],
   "source": [
    "suma_tres_cadenas(\"dos\",\"uno\",\"tres\")"
   ]
  },
  {
   "cell_type": "code",
   "execution_count": 59,
   "id": "9cd1eefd-1199-4619-9664-a4070cbfadc2",
   "metadata": {},
   "outputs": [],
   "source": [
    "def documentando_funciones(matriz:str=\"esto ya no es una matriz\"): ## Esto no es documentar\n",
    "    return matriz  ## esta es una asignacion de valores por default"
   ]
  },
  {
   "cell_type": "code",
   "execution_count": 60,
   "id": "322d3c2d-f480-48be-906d-3e99c6501865",
   "metadata": {},
   "outputs": [
    {
     "data": {
      "text/plain": [
       "str"
      ]
     },
     "execution_count": 60,
     "metadata": {},
     "output_type": "execute_result"
    }
   ],
   "source": [
    "matriz = documentando_funciones()\n",
    "type(matriz)"
   ]
  },
  {
   "cell_type": "code",
   "execution_count": 58,
   "id": "aa0f66ff-7ca2-400e-84e3-45fd64baf31f",
   "metadata": {},
   "outputs": [
    {
     "data": {
      "text/plain": [
       "\u001b[31mSignature:\u001b[39m documentando_funciones(matriz: str = \u001b[33m'esto ya no es una matriz'\u001b[39m)\n",
       "\u001b[31mDocstring:\u001b[39m <no docstring>\n",
       "\u001b[31mFile:\u001b[39m      c:\\users\\gbv\\appdata\\local\\temp\\ipykernel_10928\\2245814994.py\n",
       "\u001b[31mType:\u001b[39m      function"
      ]
     },
     "metadata": {},
     "output_type": "display_data"
    }
   ],
   "source": [
    "documentando_funciones?"
   ]
  },
  {
   "cell_type": "markdown",
   "id": "f31ead7a-24ad-42ba-8f69-f160bc3cbee1",
   "metadata": {},
   "source": [
    "###  Nombres para funciones\n",
    "\n",
    "Se sugiere usar snake_case"
   ]
  },
  {
   "cell_type": "code",
   "execution_count": 61,
   "id": "adf91fab-65ac-4e16-ab29-f1e4428ebe2d",
   "metadata": {},
   "outputs": [],
   "source": [
    "#camelcase\n",
    "NombreApellido  = \"Guillermo Barrios\"\n",
    "nombre_apellido = \"Guillermo Barrios\""
   ]
  },
  {
   "cell_type": "code",
   "execution_count": null,
   "id": "81ef3706-0927-4982-9487-2a42be146095",
   "metadata": {},
   "outputs": [],
   "source": [
    "def leer_nomina():\n",
    "\n",
    "\n",
    "def LeerNomina(): # casi no se usa\n",
    "\n",
    "\n",
    "read_excel\n",
    "read_csv\n",
    "read_parquet\n",
    "\n",
    "\n"
   ]
  }
 ],
 "metadata": {
  "kernelspec": {
   "display_name": "Python 3 (ipykernel)",
   "language": "python",
   "name": "python3"
  },
  "language_info": {
   "codemirror_mode": {
    "name": "ipython",
    "version": 3
   },
   "file_extension": ".py",
   "mimetype": "text/x-python",
   "name": "python",
   "nbconvert_exporter": "python",
   "pygments_lexer": "ipython3",
   "version": "3.12.10"
  }
 },
 "nbformat": 4,
 "nbformat_minor": 5
}
