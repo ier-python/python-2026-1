{
 "cells": [
  {
   "cell_type": "code",
   "execution_count": 1,
   "id": "9b67010d-d23e-42ad-a699-d38c8e9fb449",
   "metadata": {},
   "outputs": [],
   "source": [
    "entero  = 1\n",
    "flotantes = 1.\n",
    "complejos = 1 + 0j\n",
    "cadenas = \"cadenas\"\n",
    "boleanos = True\n",
    "diccionarios = {\"llave\":\"valor\", \"llave2\":1}\n",
    "tuplas = (1,.1,\"cadenas\")\n",
    "listas = [1,1.,\"hola\"]"
   ]
  },
  {
   "cell_type": "code",
   "execution_count": 2,
   "id": "26192eaa-43fc-49b5-bb0c-5a7c88bc9b4d",
   "metadata": {},
   "outputs": [],
   "source": [
    "cadenas = \"a\"\n",
    "numero_cadena = \"1\"\n",
    "otra_cadena = 'b'\n",
    "doblecadena = \"'cadena doble'\""
   ]
  },
  {
   "cell_type": "code",
   "execution_count": 3,
   "id": "d8ecd1c7-20fa-4361-b92c-81729f8dc7ea",
   "metadata": {},
   "outputs": [
    {
     "data": {
      "text/plain": [
       "\"'cadena doble'\""
      ]
     },
     "execution_count": 3,
     "metadata": {},
     "output_type": "execute_result"
    }
   ],
   "source": [
    "doblecadena"
   ]
  },
  {
   "cell_type": "code",
   "execution_count": 4,
   "id": "a38fc8c2-91bc-46ab-8f7c-3113d82eabc0",
   "metadata": {},
   "outputs": [],
   "source": [
    "materiales = {\n",
    "    \"cobre\":{\"densidad\":250_000,\"cp\":1000.,\"k\":65.},\n",
    "    \"adamantium\":{\"densidad\":2500_000,\"cp\":1000.,\"k\":65.},\n",
    "    \"oro\":{\"densidad\":2500_000,\"cp\":1000.,\"k\":65.},\n",
    "    \"kriptonita\":{\"densidad\":2500_000,\"cp\":1000.,\"k\":65.},\n",
    "}"
   ]
  },
  {
   "cell_type": "code",
   "execution_count": null,
   "id": "258dc3d3-6591-4526-bd25-95ad46064f58",
   "metadata": {},
   "outputs": [],
   "source": []
  },
  {
   "cell_type": "code",
   "execution_count": 5,
   "id": "ce63764b-7e65-4772-9f85-8745fbb3ab29",
   "metadata": {},
   "outputs": [],
   "source": [
    "# diccionario ="
   ]
  },
  {
   "cell_type": "code",
   "execution_count": 6,
   "id": "c6376c9c-4eed-4cff-b165-de3e1ef37c6a",
   "metadata": {
    "scrolled": true
   },
   "outputs": [
    {
     "data": {
      "text/plain": [
       "1000.0"
      ]
     },
     "execution_count": 6,
     "metadata": {},
     "output_type": "execute_result"
    }
   ],
   "source": [
    "materiales[\"cobre\"][\"cp\"]"
   ]
  },
  {
   "cell_type": "code",
   "execution_count": 7,
   "id": "77444f64-a896-4d75-af7b-ad344a5352d5",
   "metadata": {},
   "outputs": [
    {
     "data": {
      "text/plain": [
       "dict_keys(['densidad', 'cp', 'k'])"
      ]
     },
     "execution_count": 7,
     "metadata": {},
     "output_type": "execute_result"
    }
   ],
   "source": [
    "materiales[\"cobre\"].keys()"
   ]
  },
  {
   "cell_type": "code",
   "execution_count": 8,
   "id": "21ff5813-5fa3-4d09-a95a-384d1cf7a643",
   "metadata": {},
   "outputs": [
    {
     "data": {
      "text/plain": [
       "dict_items([('cobre', {'densidad': 250000, 'cp': 1000.0, 'k': 65.0}), ('adamantium', {'densidad': 2500000, 'cp': 1000.0, 'k': 65.0}), ('oro', {'densidad': 2500000, 'cp': 1000.0, 'k': 65.0}), ('kriptonita', {'densidad': 2500000, 'cp': 1000.0, 'k': 65.0})])"
      ]
     },
     "execution_count": 8,
     "metadata": {},
     "output_type": "execute_result"
    }
   ],
   "source": [
    "materiales.items()"
   ]
  },
  {
   "cell_type": "code",
   "execution_count": 9,
   "id": "dcb0add6-3116-429d-ad34-6da96cfc64b1",
   "metadata": {},
   "outputs": [
    {
     "ename": "SyntaxError",
     "evalue": "invalid syntax (4148126238.py, line 1)",
     "output_type": "error",
     "traceback": [
      "  \u001b[36mCell\u001b[39m\u001b[36m \u001b[39m\u001b[32mIn[9]\u001b[39m\u001b[32m, line 1\u001b[39m\n\u001b[31m    \u001b[39m\u001b[31mmateriales.\u001b[39m\n               ^\n\u001b[31mSyntaxError\u001b[39m\u001b[31m:\u001b[39m invalid syntax\n"
     ]
    }
   ],
   "source": [
    "materiales."
   ]
  },
  {
   "cell_type": "code",
   "execution_count": 10,
   "id": "b2f00541-03b5-445c-8d24-b55af267a5b4",
   "metadata": {},
   "outputs": [
    {
     "data": {
      "text/plain": [
       "list"
      ]
     },
     "execution_count": 10,
     "metadata": {},
     "output_type": "execute_result"
    }
   ],
   "source": [
    "type(listas)"
   ]
  },
  {
   "cell_type": "code",
   "execution_count": 11,
   "id": "2c142f9f-a2ec-4e23-b169-757a6991d2c1",
   "metadata": {},
   "outputs": [],
   "source": [
    "tupla_colores = (\"azul\",\"rojo\",'verde')\n",
    "lista_colores = [\"amarillo\",\"morado\",\"azul\"]"
   ]
  },
  {
   "cell_type": "code",
   "execution_count": 12,
   "id": "ce3eed5d-100c-4973-907b-cf37eb38cb46",
   "metadata": {},
   "outputs": [
    {
     "data": {
      "text/plain": [
       "'azul'"
      ]
     },
     "execution_count": 12,
     "metadata": {},
     "output_type": "execute_result"
    }
   ],
   "source": [
    "tupla_colores[0]"
   ]
  },
  {
   "cell_type": "code",
   "execution_count": 13,
   "id": "f00e5f8c-2785-4f31-86f2-13892e73fdf6",
   "metadata": {},
   "outputs": [
    {
     "data": {
      "text/plain": [
       "'amarillo'"
      ]
     },
     "execution_count": 13,
     "metadata": {},
     "output_type": "execute_result"
    }
   ],
   "source": [
    "lista_colores[0]"
   ]
  },
  {
   "cell_type": "code",
   "execution_count": 14,
   "id": "2f189a8c-760a-40b3-a0d9-54bbb32acf8c",
   "metadata": {},
   "outputs": [
    {
     "ename": "TypeError",
     "evalue": "'tuple' object does not support item assignment",
     "output_type": "error",
     "traceback": [
      "\u001b[31m---------------------------------------------------------------------------\u001b[39m",
      "\u001b[31mTypeError\u001b[39m                                 Traceback (most recent call last)",
      "\u001b[36mCell\u001b[39m\u001b[36m \u001b[39m\u001b[32mIn[14]\u001b[39m\u001b[32m, line 2\u001b[39m\n\u001b[32m      1\u001b[39m lista_colores[\u001b[32m0\u001b[39m] = \u001b[33m\"\u001b[39m\u001b[33mamarillo_pollito\u001b[39m\u001b[33m\"\u001b[39m\n\u001b[32m----> \u001b[39m\u001b[32m2\u001b[39m \u001b[43mtupla_colores\u001b[49m\u001b[43m[\u001b[49m\u001b[32;43m0\u001b[39;49m\u001b[43m]\u001b[49m = \u001b[33m\"\u001b[39m\u001b[33mamarillo_pollito\u001b[39m\u001b[33m\"\u001b[39m\n",
      "\u001b[31mTypeError\u001b[39m: 'tuple' object does not support item assignment"
     ]
    }
   ],
   "source": [
    "lista_colores[0] = \"amarillo_pollito\"\n",
    "tupla_colores[0] = \"amarillo_pollito\""
   ]
  },
  {
   "cell_type": "code",
   "execution_count": null,
   "id": "0e61a85d-101a-4d5c-8813-87eb9f312464",
   "metadata": {},
   "outputs": [],
   "source": [
    "tupla_colores = (\"dos\",\"numeros\")"
   ]
  },
  {
   "cell_type": "code",
   "execution_count": null,
   "id": "8d5baed7-b461-48f0-b4f3-249838e7ead0",
   "metadata": {},
   "outputs": [],
   "source": [
    "True, False, type, dir, if, else, def, list, tuple, int, float, sum"
   ]
  },
  {
   "cell_type": "code",
   "execution_count": null,
   "id": "851f76c0-5ae0-4e86-a3d0-759f95869ff8",
   "metadata": {},
   "outputs": [],
   "source": [
    "dir = \"Cierto\"\n",
    "sum = \"algo\""
   ]
  },
  {
   "cell_type": "code",
   "execution_count": null,
   "id": "cf44dc5b-46db-4b78-a101-90010d302750",
   "metadata": {},
   "outputs": [],
   "source": [
    "sum(1,2)"
   ]
  },
  {
   "attachments": {
    "e480943b-21d8-4567-baed-189f67e374ed.png": {
     "image/png": "[encoded data removed]"
    }
   },
   "cell_type": "markdown",
   "id": "86767bfe-07ee-4f06-b987-9d7d1184844a",
   "metadata": {},
   "source": [
    "# Títulos\n",
    "$ E = mc^2 $\n",
    "\n",
    "1. Listas\n",
    "1. Peperoni\n",
    "1. Jamón\n",
    "\n",
    "![image.png](attachment:e480943b-21d8-4567-baed-189f67e374ed.png)"
   ]
  },
  {
   "attachments": {
    "9de7b8e1-8d22-49bb-b451-cd4a7598efa4.png": {
     "image/png": "[encoded data removed]"
    }
   },
   "cell_type": "markdown",
   "id": "be2a8f9c-3510-483b-8248-d916b07f2e3f",
   "metadata": {},
   "source": [
    "![image.png](attachment:9de7b8e1-8d22-49bb-b451-cd4a7598efa4.png)"
   ]
  },
  {
   "cell_type": "code",
   "execution_count": 15,
   "id": "b7358a28-b0bc-4d88-a17d-ba0ae5f93b35",
   "metadata": {},
   "outputs": [],
   "source": [
    "# %cd ../"
   ]
  },
  {
   "cell_type": "code",
   "execution_count": 16,
   "id": "56f86eca-7c91-4920-ae07-16d1a3f9ad3b",
   "metadata": {},
   "outputs": [
    {
     "data": {
      "text/plain": [
       "'C:\\\\Users\\\\gbv\\\\curso-2026-1-main\\\\notebooks'"
      ]
     },
     "execution_count": 16,
     "metadata": {},
     "output_type": "execute_result"
    }
   ],
   "source": [
    "%pwd"
   ]
  },
  {
   "cell_type": "code",
   "execution_count": 17,
   "id": "43e874d8-694d-4f82-8559-af15f076685a",
   "metadata": {
    "scrolled": true
   },
   "outputs": [
    {
     "data": {
      "application/json": {
       "cell": {
        "!": "OSMagics",
        "HTML": "Other",
        "SVG": "Other",
        "bash": "Other",
        "capture": "ExecutionMagics",
        "cmd": "Other",
        "code_wrap": "ExecutionMagics",
        "debug": "ExecutionMagics",
        "file": "Other",
        "html": "DisplayMagics",
        "javascript": "DisplayMagics",
        "js": "DisplayMagics",
        "latex": "DisplayMagics",
        "markdown": "DisplayMagics",
        "perl": "Other",
        "prun": "ExecutionMagics",
        "pypy": "Other",
        "python": "Other",
        "python2": "Other",
        "python3": "Other",
        "ruby": "Other",
        "script": "ScriptMagics",
        "sh": "Other",
        "svg": "DisplayMagics",
        "sx": "OSMagics",
        "system": "OSMagics",
        "time": "ExecutionMagics",
        "timeit": "ExecutionMagics",
        "writefile": "OSMagics"
       },
       "line": {
        "alias": "OSMagics",
        "alias_magic": "BasicMagics",
        "autoawait": "AsyncMagics",
        "autocall": "AutoMagics",
        "automagic": "AutoMagics",
        "autosave": "KernelMagics",
        "bookmark": "OSMagics",
        "cd": "OSMagics",
        "clear": "KernelMagics",
        "cls": "KernelMagics",
        "code_wrap": "ExecutionMagics",
        "colors": "BasicMagics",
        "conda": "PackagingMagics",
        "config": "ConfigMagics",
        "connect_info": "KernelMagics",
        "copy": "Other",
        "ddir": "Other",
        "debug": "ExecutionMagics",
        "dhist": "OSMagics",
        "dirs": "OSMagics",
        "doctest_mode": "BasicMagics",
        "echo": "Other",
        "ed": "Other",
        "edit": "KernelMagics",
        "env": "OSMagics",
        "gui": "BasicMagics",
        "hist": "Other",
        "history": "HistoryMagics",
        "killbgscripts": "ScriptMagics",
        "ldir": "Other",
        "less": "KernelMagics",
        "load": "CodeMagics",
        "load_ext": "ExtensionMagics",
        "loadpy": "CodeMagics",
        "logoff": "LoggingMagics",
        "logon": "LoggingMagics",
        "logstart": "LoggingMagics",
        "logstate": "LoggingMagics",
        "logstop": "LoggingMagics",
        "ls": "Other",
        "lsmagic": "BasicMagics",
        "macro": "ExecutionMagics",
        "magic": "BasicMagics",
        "mamba": "PackagingMagics",
        "matplotlib": "PylabMagics",
        "micromamba": "PackagingMagics",
        "mkdir": "Other",
        "more": "KernelMagics",
        "notebook": "BasicMagics",
        "page": "BasicMagics",
        "pastebin": "CodeMagics",
        "pdb": "ExecutionMagics",
        "pdef": "NamespaceMagics",
        "pdoc": "NamespaceMagics",
        "pfile": "NamespaceMagics",
        "pinfo": "NamespaceMagics",
        "pinfo2": "NamespaceMagics",
        "pip": "PackagingMagics",
        "popd": "OSMagics",
        "pprint": "BasicMagics",
        "precision": "BasicMagics",
        "prun": "ExecutionMagics",
        "psearch": "NamespaceMagics",
        "psource": "NamespaceMagics",
        "pushd": "OSMagics",
        "pwd": "OSMagics",
        "pycat": "OSMagics",
        "pylab": "PylabMagics",
        "qtconsole": "KernelMagics",
        "quickref": "BasicMagics",
        "recall": "HistoryMagics",
        "rehashx": "OSMagics",
        "reload_ext": "ExtensionMagics",
        "ren": "Other",
        "rep": "Other",
        "rerun": "HistoryMagics",
        "reset": "NamespaceMagics",
        "reset_selective": "NamespaceMagics",
        "rmdir": "Other",
        "run": "ExecutionMagics",
        "save": "CodeMagics",
        "sc": "OSMagics",
        "set_env": "OSMagics",
        "store": "StoreMagics",
        "sx": "OSMagics",
        "system": "OSMagics",
        "tb": "ExecutionMagics",
        "time": "ExecutionMagics",
        "timeit": "ExecutionMagics",
        "unalias": "OSMagics",
        "unload_ext": "ExtensionMagics",
        "uv": "PackagingMagics",
        "who": "NamespaceMagics",
        "who_ls": "NamespaceMagics",
        "whos": "NamespaceMagics",
        "xdel": "NamespaceMagics",
        "xmode": "BasicMagics"
       }
      },
      "text/plain": [
       "Available line magics:\n",
       "%alias  %alias_magic  %autoawait  %autocall  %automagic  %autosave  %bookmark  %cd  %clear  %cls  %code_wrap  %colors  %conda  %config  %connect_info  %copy  %ddir  %debug  %dhist  %dirs  %doctest_mode  %echo  %ed  %edit  %env  %gui  %hist  %history  %killbgscripts  %ldir  %less  %load  %load_ext  %loadpy  %logoff  %logon  %logstart  %logstate  %logstop  %ls  %lsmagic  %macro  %magic  %mamba  %matplotlib  %micromamba  %mkdir  %more  %notebook  %page  %pastebin  %pdb  %pdef  %pdoc  %pfile  %pinfo  %pinfo2  %pip  %popd  %pprint  %precision  %prun  %psearch  %psource  %pushd  %pwd  %pycat  %pylab  %qtconsole  %quickref  %recall  %rehashx  %reload_ext  %ren  %rep  %rerun  %reset  %reset_selective  %rmdir  %run  %save  %sc  %set_env  %store  %sx  %system  %tb  %time  %timeit  %unalias  %unload_ext  %uv  %who  %who_ls  %whos  %xdel  %xmode\n",
       "\n",
       "Available cell magics:\n",
       "%%!  %%HTML  %%SVG  %%bash  %%capture  %%cmd  %%code_wrap  %%debug  %%file  %%html  %%javascript  %%js  %%latex  %%markdown  %%perl  %%prun  %%pypy  %%python  %%python2  %%python3  %%ruby  %%script  %%sh  %%svg  %%sx  %%system  %%time  %%timeit  %%writefile\n",
       "\n",
       "Automagic is ON, % prefix IS NOT needed for line magics."
      ]
     },
     "execution_count": 17,
     "metadata": {},
     "output_type": "execute_result"
    }
   ],
   "source": [
    "%lsmagic"
   ]
  },
  {
   "cell_type": "code",
   "execution_count": 19,
   "id": "13c9a59f-2130-43f5-a45c-1ab338013669",
   "metadata": {},
   "outputs": [
    {
     "name": "stdout",
     "output_type": "stream",
     "text": [
      "CPU times: total: 0 ns\n",
      "Wall time: 0 ns\n"
     ]
    }
   ],
   "source": [
    "%time\n",
    "lista = [\"1\",\"2\",3,56]"
   ]
  },
  {
   "cell_type": "code",
   "execution_count": 20,
   "id": "fbc586a0-7fcb-40f4-bbbb-63a06c181928",
   "metadata": {
    "scrolled": true
   },
   "outputs": [
    {
     "name": "stdout",
     "output_type": "stream",
     "text": [
      "entero  = 1\n",
      "flotantes = 1.\n",
      "complejos = 1 + 0j\n",
      "cadenas = \"cadenas\"\n",
      "boleanos = True\n",
      "diccionarios = {\"llave\":\"valor\", \"llave2\":1}\n",
      "tuplas = (1,.1,\"cadenas\")\n",
      "listas = [1,1.,\"hola\"]\n",
      "cadenas = \"a\"\n",
      "numero_cadena = \"1\"\n",
      "otra_cadena = 'b'\n",
      "doblecadena = \"'cadena doble'\"\n",
      "doblecadena\n",
      "materiales = {\n",
      "    \"cobre\":{\"densidad\":250_000,\"cp\":1000.,\"k\":65.},\n",
      "    \"adamantium\":{\"densidad\":2500_000,\"cp\":1000.,\"k\":65.},\n",
      "    \"oro\":{\"densidad\":2500_000,\"cp\":1000.,\"k\":65.},\n",
      "    \"kriptonita\":{\"densidad\":2500_000,\"cp\":1000.,\"k\":65.},\n",
      "}\n",
      "# diccionario =\n",
      "materiales[\"cobre\"][\"cp\"]\n",
      "materiales[\"cobre\"].keys()\n",
      "materiales.items()\n",
      "materiales.\n",
      "type(listas)\n",
      "tupla_colores = (\"azul\",\"rojo\",'verde')\n",
      "lista_colores = [\"amarillo\",\"morado\",\"azul\"]\n",
      "tupla_colores[0]\n",
      "lista_colores[0]\n",
      "lista_colores[0] = \"amarillo_pollito\"\n",
      "tupla_colores[0] = \"amarillo_pollito\"\n",
      "# %cd ../\n",
      "%pwd\n",
      "%lsmagic\n",
      "%time\n",
      "%time\n",
      "lista = [\"1\",\"2\",3,56]\n",
      "%history\n"
     ]
    }
   ],
   "source": [
    "%history"
   ]
  },
  {
   "cell_type": "code",
   "execution_count": 22,
   "id": "8a3f833f-8293-4337-8459-c2f118649144",
   "metadata": {
    "scrolled": true
   },
   "outputs": [
    {
     "name": "stdout",
     "output_type": "stream",
     "text": [
      "boleanos\t cadenas\t complejos\t diccionarios\t doblecadena\t entero\t flotantes\t lista\t lista_colores\t \n",
      "listas\t materiales\t numero_cadena\t otra_cadena\t tupla_colores\t tuplas\t \n"
     ]
    }
   ],
   "source": [
    "%who"
   ]
  },
  {
   "cell_type": "code",
   "execution_count": 24,
   "id": "4010f409-9242-4c77-b426-545a4c05b9f9",
   "metadata": {},
   "outputs": [
    {
     "name": "stdout",
     "output_type": "stream",
     "text": [
      "entero\t \n"
     ]
    }
   ],
   "source": [
    "%who int"
   ]
  },
  {
   "cell_type": "code",
   "execution_count": 25,
   "id": "f63bb39a-c73e-435a-adf7-7a538fb631cd",
   "metadata": {},
   "outputs": [
    {
     "name": "stdout",
     "output_type": "stream",
     "text": [
      "lista\t lista_colores\t listas\t \n"
     ]
    }
   ],
   "source": [
    "%who list"
   ]
  },
  {
   "cell_type": "code",
   "execution_count": 26,
   "id": "54646ebc-4f4a-43ca-ae26-1a0ba38007a2",
   "metadata": {
    "scrolled": true
   },
   "outputs": [
    {
     "data": {
      "text/plain": [
       "['boleanos',\n",
       " 'cadenas',\n",
       " 'complejos',\n",
       " 'diccionarios',\n",
       " 'doblecadena',\n",
       " 'entero',\n",
       " 'flotantes',\n",
       " 'lista',\n",
       " 'lista_colores',\n",
       " 'listas',\n",
       " 'materiales',\n",
       " 'numero_cadena',\n",
       " 'otra_cadena',\n",
       " 'tupla_colores',\n",
       " 'tuplas']"
      ]
     },
     "execution_count": 26,
     "metadata": {},
     "output_type": "execute_result"
    }
   ],
   "source": [
    "%who_ls"
   ]
  },
  {
   "cell_type": "code",
   "execution_count": 28,
   "id": "31eaade8-dbc2-442f-9cc4-fa20b4fe3cc2",
   "metadata": {
    "scrolled": true
   },
   "outputs": [
    {
     "name": "stdout",
     "output_type": "stream",
     "text": [
      "Variable        Type       Data/Info\n",
      "------------------------------------\n",
      "boleanos        bool       True\n",
      "cadenas         str        a\n",
      "complejos       complex    (1+0j)\n",
      "diccionarios    dict       n=2\n",
      "doblecadena     str        'cadena doble'\n",
      "entero          int        1\n",
      "flotantes       float      1.0\n",
      "lista           list       n=4\n",
      "lista_colores   list       n=3\n",
      "listas          list       n=3\n",
      "materiales      dict       n=4\n",
      "numero_cadena   str        1\n",
      "otra_cadena     str        b\n",
      "tupla_colores   tuple      n=3\n",
      "tuplas          tuple      n=3\n"
     ]
    }
   ],
   "source": [
    "%whos"
   ]
  },
  {
   "cell_type": "code",
   "execution_count": 31,
   "id": "7583e94e-57d8-407b-90ae-2f42e93cb399",
   "metadata": {},
   "outputs": [
    {
     "name": "stderr",
     "output_type": "stream",
     "text": [
      "UsageError: Cell magic `%%uv` not found (But line magic `%uv` exists, did you mean that instead?).\n"
     ]
    }
   ],
   "source": [
    "# %uv add pandas"
   ]
  },
  {
   "cell_type": "code",
   "execution_count": null,
   "id": "b632b27d-62b5-4c54-9017-8068805586a2",
   "metadata": {},
   "outputs": [],
   "source": []
  }
 ],
 "metadata": {
  "kernelspec": {
   "display_name": "Python 3 (ipykernel)",
   "language": "python",
   "name": "python3"
  },
  "language_info": {
   "codemirror_mode": {
    "name": "ipython",
    "version": 3
   },
   "file_extension": ".py",
   "mimetype": "text/x-python",
   "name": "python",
   "nbconvert_exporter": "python",
   "pygments_lexer": "ipython3",
   "version": "3.12.10"
  }
 },
 "nbformat": 4,
 "nbformat_minor": 5
}
