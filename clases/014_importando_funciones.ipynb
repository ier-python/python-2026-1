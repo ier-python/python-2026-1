{
 "cells": [
  {
   "cell_type": "code",
   "execution_count": 1,
   "id": "c667e51a-afaa-49d5-a22c-a66674178bd2",
   "metadata": {},
   "outputs": [],
   "source": [
    "#from tools.saludos import *\n",
    "from tools.saludos import ( \n",
    "                            saluda_dos_personas, \n",
    "                            saluda_personas \n",
    ")# importar cada funcion usada\n",
    "from tools.operaciones import suma_dos_numeros"
   ]
  },
  {
   "cell_type": "code",
   "execution_count": null,
   "id": "f9f37b58-62fb-44e3-bb2f-19e0bdcd6bf2",
   "metadata": {},
   "outputs": [],
   "source": [
    "saluda_personas()"
   ]
  },
  {
   "cell_type": "code",
   "execution_count": null,
   "id": "d986ea95-7962-4fd8-9525-564358e6945c",
   "metadata": {},
   "outputs": [],
   "source": [
    "saluda_dos_personas"
   ]
  },
  {
   "cell_type": "code",
   "execution_count": null,
   "id": "04496d94-01ff-4453-bd91-f10b8501905f",
   "metadata": {},
   "outputs": [],
   "source": []
  }
 ],
 "metadata": {
  "kernelspec": {
   "display_name": "Python 3 (ipykernel)",
   "language": "python",
   "name": "python3"
  },
  "language_info": {
   "codemirror_mode": {
    "name": "ipython",
    "version": 3
   },
   "file_extension": ".py",
   "mimetype": "text/x-python",
   "name": "python",
   "nbconvert_exporter": "python",
   "pygments_lexer": "ipython3",
   "version": "3.12.10"
  }
 },
 "nbformat": 4,
 "nbformat_minor": 5
}
